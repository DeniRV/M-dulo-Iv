{
 "cells": [
  {
   "cell_type": "markdown",
   "metadata": {},
   "source": [
    "#### Algoritmo de agrupación K-means \n",
    "## Factores que podrían influir en colisiones automovilisticas.\n",
    "### Visualizando datos de Accidentes\n",
    "\n",
    "Actualización a 2022"
   ]
  },
  {
   "cell_type": "markdown",
   "metadata": {},
   "source": [
    "### Introducción\n",
    "\n",
    "Los accidentes de tráfico representan una preocupación importante para la seguridad vial en todo el mundo, causando pérdidas humanas y materiales significativas cada año. La comprensión de los factores que contribuyen a la ocurrencia de estos incidentes es esencial para desarrollar estrategias efectivas de prevención y mitigación. En este contexto, el presente análisis de datos juega un papel crucial al proporcionar información valiosa sobre los patrones y tendencias asociadas con los incidentes de tráfico.\n",
    "\n",
    "En este trabajo, se aborda el desafío de analizar una base de datos de accidentes de tráfico utilizando el algoritmo de aprendizaje no supervisado conocido como K-Means. Este algoritmo tiene como objetivo principal agrupar los datos en clústeres significativos, lo que permite identificar patrones subyacentes y segmentar los datos en categorías similares.\n",
    "La base de datos utilizada en este estudio contiene información ciertamente límitada sobre accidentes de tráfico ocurridos en distintas regiones durante el año 2022. Es por esto que únicamente se límita a buscar responder o analizar factores que podrían explicar los tipos de colisiones. \n",
    "\n",
    "Algunas de las variables que se incluyen son: la ubicación del accidente (urbana, suburbana), tipo de accidente, características del vehículo, sexo, edad, y otros factores relevantes como el consumo de bebidas alcohólicas, hora, día de la semana y los meses con mayores accidentes.\n",
    "\n",
    "El objetivo principal de este trabajo es aplicar el algoritmo K-Means a la base de datos de accidentes de tráfico con el fin de identificar patrones y tendencias significativas así como responder las hipótesis que más adelante se plantean. \n",
    "En resumen, este estudio ayudará a la comprensión y la mitigación de los riesgos asociados a los tipos de colisión, utilizando técnicas avanzadas de análisis de datos y aprendizaje automático para extraer información significativa de una gran cantidad de datos. Los hallazgos obtenidos a partir de este análisis proporcionarán información útil para comprender mejor los factores que contribuyen a las colisiones y orientarán el desarrollo de medidas preventivas y políticas de seguridad vial.\n",
    "\n",
    "En consecuencia, lo que se busca es dar respuesta a las siguientes hipótesis que a nuestro parecer son relevantes. \n"
   ]
  },
  {
   "cell_type": "markdown",
   "metadata": {},
   "source": [
    "## Hipótesis\n",
    "Hipótesis 1: La mayoría de las colisiones se deben a las bebidas alcohólicas y es muy probable que coincidan con fines de semana. \n",
    "\n",
    "Hipótesis 2: Los fines de semana podrían ser los días en con más colisiones mortales que los días entre semana.\n",
    "\n",
    "Hipótesis 3: Las colisiones que son con motocicletas, es muy probable que la mayoría de los casos concluyan con un lamentable fallecimiento. \n"
   ]
  },
  {
   "cell_type": "code",
   "execution_count": 1,
   "metadata": {},
   "outputs": [],
   "source": [
    "# Dependencies\n",
    "import pandas as pd\n",
    "pd.set_option('display.max_columns', 100)\n",
    "from pandas.plotting import scatter_matrix\n",
    "import numpy as np\n",
    "import math\n",
    "import matplotlib.pyplot as plt\n",
    "import seaborn as sns\n",
    "from sklearn.cluster import KMeans\n",
    "\n",
    "\n",
    "import warnings\n",
    "warnings.filterwarnings('ignore')"
   ]
  },
  {
   "cell_type": "code",
   "execution_count": null,
   "metadata": {},
   "outputs": [],
   "source": [
    "#!pip install pip\n",
    "#!pip install --upgrade seaborn\n",
    "#!pip install --upgrade numpy"
   ]
  },
  {
   "cell_type": "code",
   "execution_count": 2,
   "metadata": {},
   "outputs": [],
   "source": [
    "# Opciones de visualizació de cifras:\n",
    "pd.options.display.float_format = '{:,.2f}'.format #'${:,.2f}'"
   ]
  },
  {
   "cell_type": "code",
   "execution_count": null,
   "metadata": {},
   "outputs": [],
   "source": [
    "## Descarga de datos\n"
   ]
  },
  {
   "cell_type": "code",
   "execution_count": 3,
   "metadata": {},
   "outputs": [
    {
     "data": {
      "text/html": [
       "<div>\n",
       "<style scoped>\n",
       "    .dataframe tbody tr th:only-of-type {\n",
       "        vertical-align: middle;\n",
       "    }\n",
       "\n",
       "    .dataframe tbody tr th {\n",
       "        vertical-align: top;\n",
       "    }\n",
       "\n",
       "    .dataframe thead th {\n",
       "        text-align: right;\n",
       "    }\n",
       "</style>\n",
       "<table border=\"1\" class=\"dataframe\">\n",
       "  <thead>\n",
       "    <tr style=\"text-align: right;\">\n",
       "      <th></th>\n",
       "      <th>COBERTURA</th>\n",
       "      <th>ID_ENTIDAD</th>\n",
       "      <th>ID_MUNICIPIO</th>\n",
       "      <th>ANIO</th>\n",
       "      <th>MES</th>\n",
       "      <th>ID_HORA</th>\n",
       "      <th>ID_MINUTO</th>\n",
       "      <th>ID_DIA</th>\n",
       "      <th>DIASEMANA</th>\n",
       "      <th>URBANA</th>\n",
       "      <th>SUBURBANA</th>\n",
       "      <th>TIPACCID</th>\n",
       "      <th>tipaccid_cod</th>\n",
       "      <th>AUTOMOVIL</th>\n",
       "      <th>CAMPASAJ</th>\n",
       "      <th>MICROBUS</th>\n",
       "      <th>PASCAMION</th>\n",
       "      <th>OMNIBUS</th>\n",
       "      <th>TRANVIA</th>\n",
       "      <th>CAMIONETA</th>\n",
       "      <th>CAMION</th>\n",
       "      <th>TRACTOR</th>\n",
       "      <th>FERROCARRI</th>\n",
       "      <th>MOTOCICLET</th>\n",
       "      <th>BICICLETA</th>\n",
       "      <th>OTROVEHIC</th>\n",
       "      <th>CAUSAACCI</th>\n",
       "      <th>CAPAROD</th>\n",
       "      <th>SEXO</th>\n",
       "      <th>ALIENTO</th>\n",
       "      <th>CINTURON</th>\n",
       "      <th>ID_EDAD</th>\n",
       "      <th>CONDMUERTO</th>\n",
       "      <th>CONDHERIDO</th>\n",
       "      <th>PASAMUERTO</th>\n",
       "      <th>PASAHERIDO</th>\n",
       "      <th>PEATMUERTO</th>\n",
       "      <th>PEATHERIDO</th>\n",
       "      <th>CICLMUERTO</th>\n",
       "      <th>CICLHERIDO</th>\n",
       "      <th>OTROMUERTO</th>\n",
       "      <th>OTROHERIDO</th>\n",
       "      <th>NEMUERTO</th>\n",
       "      <th>NEHERIDO</th>\n",
       "      <th>CLASACC</th>\n",
       "      <th>ESTATUS</th>\n",
       "    </tr>\n",
       "  </thead>\n",
       "  <tbody>\n",
       "    <tr>\n",
       "      <th>0</th>\n",
       "      <td>Municipal</td>\n",
       "      <td>1</td>\n",
       "      <td>1</td>\n",
       "      <td>2022</td>\n",
       "      <td>1</td>\n",
       "      <td>2</td>\n",
       "      <td>48</td>\n",
       "      <td>1</td>\n",
       "      <td>Sabado</td>\n",
       "      <td>Accidente en intersección</td>\n",
       "      <td>Sin accidente en esta zona</td>\n",
       "      <td>Colisión con vehículo automotor</td>\n",
       "      <td>8</td>\n",
       "      <td>1</td>\n",
       "      <td>1</td>\n",
       "      <td>0</td>\n",
       "      <td>0</td>\n",
       "      <td>0</td>\n",
       "      <td>0</td>\n",
       "      <td>0</td>\n",
       "      <td>0</td>\n",
       "      <td>0</td>\n",
       "      <td>0</td>\n",
       "      <td>0</td>\n",
       "      <td>0</td>\n",
       "      <td>0</td>\n",
       "      <td>Conductor</td>\n",
       "      <td>Pavimentada</td>\n",
       "      <td>2</td>\n",
       "      <td>1</td>\n",
       "      <td>3</td>\n",
       "      <td>20</td>\n",
       "      <td>0</td>\n",
       "      <td>0</td>\n",
       "      <td>0</td>\n",
       "      <td>0</td>\n",
       "      <td>0</td>\n",
       "      <td>0</td>\n",
       "      <td>0</td>\n",
       "      <td>0</td>\n",
       "      <td>0</td>\n",
       "      <td>0</td>\n",
       "      <td>0</td>\n",
       "      <td>0</td>\n",
       "      <td>Sólo daños</td>\n",
       "      <td>Cifras Definitivas</td>\n",
       "    </tr>\n",
       "    <tr>\n",
       "      <th>1</th>\n",
       "      <td>Municipal</td>\n",
       "      <td>1</td>\n",
       "      <td>1</td>\n",
       "      <td>2022</td>\n",
       "      <td>1</td>\n",
       "      <td>3</td>\n",
       "      <td>45</td>\n",
       "      <td>1</td>\n",
       "      <td>Sabado</td>\n",
       "      <td>Accidente en intersección</td>\n",
       "      <td>Sin accidente en esta zona</td>\n",
       "      <td>Colisión con vehículo automotor</td>\n",
       "      <td>8</td>\n",
       "      <td>2</td>\n",
       "      <td>0</td>\n",
       "      <td>0</td>\n",
       "      <td>0</td>\n",
       "      <td>0</td>\n",
       "      <td>0</td>\n",
       "      <td>0</td>\n",
       "      <td>0</td>\n",
       "      <td>0</td>\n",
       "      <td>0</td>\n",
       "      <td>0</td>\n",
       "      <td>0</td>\n",
       "      <td>0</td>\n",
       "      <td>Conductor</td>\n",
       "      <td>Pavimentada</td>\n",
       "      <td>2</td>\n",
       "      <td>1</td>\n",
       "      <td>3</td>\n",
       "      <td>53</td>\n",
       "      <td>0</td>\n",
       "      <td>0</td>\n",
       "      <td>0</td>\n",
       "      <td>0</td>\n",
       "      <td>0</td>\n",
       "      <td>0</td>\n",
       "      <td>0</td>\n",
       "      <td>0</td>\n",
       "      <td>0</td>\n",
       "      <td>0</td>\n",
       "      <td>0</td>\n",
       "      <td>0</td>\n",
       "      <td>Sólo daños</td>\n",
       "      <td>Cifras Definitivas</td>\n",
       "    </tr>\n",
       "    <tr>\n",
       "      <th>2</th>\n",
       "      <td>Municipal</td>\n",
       "      <td>1</td>\n",
       "      <td>1</td>\n",
       "      <td>2022</td>\n",
       "      <td>1</td>\n",
       "      <td>4</td>\n",
       "      <td>0</td>\n",
       "      <td>1</td>\n",
       "      <td>Sabado</td>\n",
       "      <td>Accidente en intersección</td>\n",
       "      <td>Sin accidente en esta zona</td>\n",
       "      <td>Colisión con objeto fijo</td>\n",
       "      <td>6</td>\n",
       "      <td>1</td>\n",
       "      <td>0</td>\n",
       "      <td>0</td>\n",
       "      <td>0</td>\n",
       "      <td>0</td>\n",
       "      <td>0</td>\n",
       "      <td>0</td>\n",
       "      <td>0</td>\n",
       "      <td>0</td>\n",
       "      <td>0</td>\n",
       "      <td>0</td>\n",
       "      <td>0</td>\n",
       "      <td>0</td>\n",
       "      <td>Conductor</td>\n",
       "      <td>Pavimentada</td>\n",
       "      <td>2</td>\n",
       "      <td>2</td>\n",
       "      <td>3</td>\n",
       "      <td>23</td>\n",
       "      <td>0</td>\n",
       "      <td>0</td>\n",
       "      <td>0</td>\n",
       "      <td>0</td>\n",
       "      <td>0</td>\n",
       "      <td>0</td>\n",
       "      <td>0</td>\n",
       "      <td>0</td>\n",
       "      <td>0</td>\n",
       "      <td>0</td>\n",
       "      <td>0</td>\n",
       "      <td>0</td>\n",
       "      <td>Sólo daños</td>\n",
       "      <td>Cifras Definitivas</td>\n",
       "    </tr>\n",
       "    <tr>\n",
       "      <th>3</th>\n",
       "      <td>Municipal</td>\n",
       "      <td>1</td>\n",
       "      <td>1</td>\n",
       "      <td>2022</td>\n",
       "      <td>1</td>\n",
       "      <td>4</td>\n",
       "      <td>15</td>\n",
       "      <td>1</td>\n",
       "      <td>Sabado</td>\n",
       "      <td>Accidente en intersección</td>\n",
       "      <td>Sin accidente en esta zona</td>\n",
       "      <td>Colisión con objeto fijo</td>\n",
       "      <td>6</td>\n",
       "      <td>1</td>\n",
       "      <td>0</td>\n",
       "      <td>0</td>\n",
       "      <td>0</td>\n",
       "      <td>0</td>\n",
       "      <td>0</td>\n",
       "      <td>0</td>\n",
       "      <td>0</td>\n",
       "      <td>0</td>\n",
       "      <td>0</td>\n",
       "      <td>0</td>\n",
       "      <td>0</td>\n",
       "      <td>0</td>\n",
       "      <td>Conductor</td>\n",
       "      <td>Pavimentada</td>\n",
       "      <td>2</td>\n",
       "      <td>2</td>\n",
       "      <td>3</td>\n",
       "      <td>16</td>\n",
       "      <td>0</td>\n",
       "      <td>1</td>\n",
       "      <td>0</td>\n",
       "      <td>2</td>\n",
       "      <td>0</td>\n",
       "      <td>0</td>\n",
       "      <td>0</td>\n",
       "      <td>0</td>\n",
       "      <td>0</td>\n",
       "      <td>0</td>\n",
       "      <td>0</td>\n",
       "      <td>0</td>\n",
       "      <td>2 fatal</td>\n",
       "      <td>Cifras Definitivas</td>\n",
       "    </tr>\n",
       "    <tr>\n",
       "      <th>4</th>\n",
       "      <td>Municipal</td>\n",
       "      <td>1</td>\n",
       "      <td>1</td>\n",
       "      <td>2022</td>\n",
       "      <td>1</td>\n",
       "      <td>5</td>\n",
       "      <td>56</td>\n",
       "      <td>1</td>\n",
       "      <td>Sabado</td>\n",
       "      <td>Accidente en intersección</td>\n",
       "      <td>Sin accidente en esta zona</td>\n",
       "      <td>Colisión con vehículo automotor</td>\n",
       "      <td>8</td>\n",
       "      <td>0</td>\n",
       "      <td>2</td>\n",
       "      <td>0</td>\n",
       "      <td>0</td>\n",
       "      <td>0</td>\n",
       "      <td>0</td>\n",
       "      <td>0</td>\n",
       "      <td>0</td>\n",
       "      <td>0</td>\n",
       "      <td>0</td>\n",
       "      <td>0</td>\n",
       "      <td>0</td>\n",
       "      <td>0</td>\n",
       "      <td>Conductor</td>\n",
       "      <td>Pavimentada</td>\n",
       "      <td>2</td>\n",
       "      <td>2</td>\n",
       "      <td>3</td>\n",
       "      <td>41</td>\n",
       "      <td>0</td>\n",
       "      <td>0</td>\n",
       "      <td>0</td>\n",
       "      <td>0</td>\n",
       "      <td>0</td>\n",
       "      <td>0</td>\n",
       "      <td>0</td>\n",
       "      <td>0</td>\n",
       "      <td>0</td>\n",
       "      <td>0</td>\n",
       "      <td>0</td>\n",
       "      <td>0</td>\n",
       "      <td>Sólo daños</td>\n",
       "      <td>Cifras Definitivas</td>\n",
       "    </tr>\n",
       "  </tbody>\n",
       "</table>\n",
       "</div>"
      ],
      "text/plain": [
       "   COBERTURA  ID_ENTIDAD  ID_MUNICIPIO  ANIO  MES  ID_HORA  ID_MINUTO  ID_DIA  \\\n",
       "0  Municipal           1             1  2022    1        2         48       1   \n",
       "1  Municipal           1             1  2022    1        3         45       1   \n",
       "2  Municipal           1             1  2022    1        4          0       1   \n",
       "3  Municipal           1             1  2022    1        4         15       1   \n",
       "4  Municipal           1             1  2022    1        5         56       1   \n",
       "\n",
       "  DIASEMANA                     URBANA                   SUBURBANA  \\\n",
       "0    Sabado  Accidente en intersección  Sin accidente en esta zona   \n",
       "1    Sabado  Accidente en intersección  Sin accidente en esta zona   \n",
       "2    Sabado  Accidente en intersección  Sin accidente en esta zona   \n",
       "3    Sabado  Accidente en intersección  Sin accidente en esta zona   \n",
       "4    Sabado  Accidente en intersección  Sin accidente en esta zona   \n",
       "\n",
       "                          TIPACCID  tipaccid_cod  AUTOMOVIL  CAMPASAJ  \\\n",
       "0  Colisión con vehículo automotor             8          1         1   \n",
       "1  Colisión con vehículo automotor             8          2         0   \n",
       "2         Colisión con objeto fijo             6          1         0   \n",
       "3         Colisión con objeto fijo             6          1         0   \n",
       "4  Colisión con vehículo automotor             8          0         2   \n",
       "\n",
       "   MICROBUS  PASCAMION  OMNIBUS  TRANVIA  CAMIONETA  CAMION  TRACTOR  \\\n",
       "0         0          0        0        0          0       0        0   \n",
       "1         0          0        0        0          0       0        0   \n",
       "2         0          0        0        0          0       0        0   \n",
       "3         0          0        0        0          0       0        0   \n",
       "4         0          0        0        0          0       0        0   \n",
       "\n",
       "   FERROCARRI  MOTOCICLET  BICICLETA  OTROVEHIC  CAUSAACCI      CAPAROD  SEXO  \\\n",
       "0           0           0          0          0  Conductor  Pavimentada     2   \n",
       "1           0           0          0          0  Conductor  Pavimentada     2   \n",
       "2           0           0          0          0  Conductor  Pavimentada     2   \n",
       "3           0           0          0          0  Conductor  Pavimentada     2   \n",
       "4           0           0          0          0  Conductor  Pavimentada     2   \n",
       "\n",
       "   ALIENTO  CINTURON  ID_EDAD  CONDMUERTO  CONDHERIDO  PASAMUERTO  PASAHERIDO  \\\n",
       "0        1         3       20           0           0           0           0   \n",
       "1        1         3       53           0           0           0           0   \n",
       "2        2         3       23           0           0           0           0   \n",
       "3        2         3       16           0           1           0           2   \n",
       "4        2         3       41           0           0           0           0   \n",
       "\n",
       "   PEATMUERTO  PEATHERIDO  CICLMUERTO  CICLHERIDO  OTROMUERTO  OTROHERIDO  \\\n",
       "0           0           0           0           0           0           0   \n",
       "1           0           0           0           0           0           0   \n",
       "2           0           0           0           0           0           0   \n",
       "3           0           0           0           0           0           0   \n",
       "4           0           0           0           0           0           0   \n",
       "\n",
       "   NEMUERTO  NEHERIDO     CLASACC             ESTATUS  \n",
       "0         0         0  Sólo daños  Cifras Definitivas  \n",
       "1         0         0  Sólo daños  Cifras Definitivas  \n",
       "2         0         0  Sólo daños  Cifras Definitivas  \n",
       "3         0         0     2 fatal  Cifras Definitivas  \n",
       "4         0         0  Sólo daños  Cifras Definitivas  "
      ]
     },
     "execution_count": 3,
     "metadata": {},
     "output_type": "execute_result"
    }
   ],
   "source": [
    "# Cara renglón en este data set es una persona\n",
    "\n",
    "ruta_archivo = \"C:/Users/Lizeth Solano Romo/OneDrive - Universidad Autónoma de Aguascalientes/2024/Diplomado UNAM/Modulo IV/Proyecto final/atus_anual_2022_1.csv\"\n",
    "\n",
    "# Lee el archivo CSV en un DataFrame de pandas\n",
    "datos = pd.read_csv(ruta_archivo)\n",
    "\n",
    "# Imprime las primeras filas del DataFrame\n",
    "datos.head()\n"
   ]
  },
  {
   "cell_type": "code",
   "execution_count": null,
   "metadata": {},
   "outputs": [],
   "source": [
    "#\n",
    "\n",
    "datos.tail()"
   ]
  },
  {
   "cell_type": "code",
   "execution_count": null,
   "metadata": {},
   "outputs": [],
   "source": [
    "# Número de datos\n",
    "\n",
    "datos.shape"
   ]
  },
  {
   "cell_type": "code",
   "execution_count": null,
   "metadata": {},
   "outputs": [],
   "source": [
    "# Nombres de las columnas\n",
    "\n",
    "datos.columns"
   ]
  },
  {
   "cell_type": "markdown",
   "metadata": {},
   "source": [
    "## Claves de la 'CLASIFICACION FINAL'\n",
    "Corresponde al tipo de accidente de tránsito, de acuerdo con las siguientes descripciones: \n",
    "\n",
    "1) Caída de pasajero Accidente: donde una o más personas que viajan en el vehículo, (excluyendo al conductor), caen fuera del mismo. No se considera este tipo de accidente si la caída fue por consecuencia de otro tipo de accidente. \n",
    "2) Colisión con animal: Es aquel accidente en el que un vehículo de motor arrolla a cualquier tipo de animal provocando daños materiales, inclusive lesiones leves o fatales a personas ocupantes o no del vehículo.\n",
    "3) Colisión con ciclista: Hecho en el cual un vehículo automotor de cualquier tipo, arrolla a un ciclista sobre la vía de circulación o en un cruce vial. \n",
    "4) Colisión con ferrocarril: Choque de un vehículo automotor con una locomotora, vagón, góndola o cualquier otro vehículo clasificado como transporte ferroviario. \n",
    "5) Colisión con motocicleta: Percance vial en donde un vehículo automotor de cualquier tipo, tiene un encuentro violento, accidental o imprevisto con una motocicleta. Incluso se puede dar el caso de que sea entre dos motocicletas.  \n",
    "6) Colisión con objeto fijo: Encuentro violento de un vehículo de motor con cualquier tipo de objeto, que por sus características se encuentre sujeto al piso o asentado en él, tales como postes, guarniciones, señales de tránsito, árboles, contenedores de basura, etc. También se incluye en este tipo de colisión, el percance de un automotor en movimiento contra otro estacionado. \n",
    "7) Colisión con peatón: Evento vial donde un vehículo de motor arrolla o golpea a una persona que transita o que se encuentra en alguna vía pública, provocando lesiones leves o fatales. \n",
    "8) Colisión con vehículo automotor: Encuentro violento, accidental o imprevisto de dos o más vehículos en una vía de circulación, del cual resultan averías, daños, pérdida parcial o total de vehículos o propiedades, así como lesiones leves y/o fatales a personas. Puede ser lateral, frontal o por alcance. \n",
    "9) Incendio: Es el accidente ocasionado por un corto circuito, derrame de combustible o cuestiones desconocidas, que propician la generación de fuego mediante el cual se consume parcial o totalmente el vehículo automotor.  \n",
    "10) Otro: Cualquier otro tipo de accidente que no pueda ser clasificado en los 11 incisos descritos anteriormente, tales como derrumbes, deslaves o cualquier otro objeto que caiga sobre los vehículos en circulación y como consecuencia se produzca algún accidente vial.\n",
    "11) Salida del camino: Evento en donde el vehículo, por causas circunstanciales, abandona de manera violenta e imprevista la vía de circulación por la cual transita. Incluso si por la acción del vehículo cae a una zanja, cuneta, barranca, etc. \n",
    "12) Volcadura: Es el tipo de accidente que debido a las circunstancias que lo originan, provocan que el vehículo pierda su posición normal, incluso dé una o varias volteretas. "
   ]
  },
  {
   "cell_type": "code",
   "execution_count": null,
   "metadata": {},
   "outputs": [],
   "source": [
    "# Tipo de caso que analizaremos y cómo los clasificaremos\n",
    "\n",
    "datos['TIPACCID'].value_counts()\n"
   ]
  },
  {
   "cell_type": "code",
   "execution_count": null,
   "metadata": {},
   "outputs": [],
   "source": [
    "# Tipo de caso en código que analizaremos \n",
    "\n",
    "datos['tipaccid_cod'].value_counts()"
   ]
  },
  {
   "cell_type": "code",
   "execution_count": null,
   "metadata": {},
   "outputs": [],
   "source": [
    "## Claves de la 'CLASIFICACION FINAL'\n",
    "\n",
    "\n",
    "#* 1 = Caída de pasajero\n",
    "#* 2 = Colisión con animal \n",
    "#* 3 = Colisión con ciclista\n",
    "#* 4 = Colisión con ferrocarril\n",
    "#* 5 = Colisión con motocicleta\n",
    "#* 6 = Colisión con objeto fijo\n",
    "#* 7 = Colisión con peatón (atropellamiento) \n",
    "#* 8 = Colisión con vehículo automotor\n",
    "#* 9 = Incendio\n",
    "#* 10 = Otro\n",
    "#* 11 = Salida del camino\n",
    "#* 12 = Volcadura \n"
   ]
  },
  {
   "cell_type": "markdown",
   "metadata": {},
   "source": [
    "# Clasificando los casos por tipo de accidente y colisión\n"
   ]
  },
  {
   "cell_type": "markdown",
   "metadata": {},
   "source": [
    "La RAE, define Accidente como \"un suceso eventual o acción de que involuntariamente resulta daño para las personas o las cosas\". Es decir, es un suceso que ocurre sin intención o expectativa humana y que provoca daños, pérdidas o lesiones no deseadas o no intencionadas a una persona o a una propiedad. Este no es el caso en una colisión entre vehículos según FARAHI, una firma de aborgados, expertos de delitos en lesiones personales y accidentes de Los Angeles, \"Nunca sucede por casualidad, ya que es el resultado de una serie de eventos perpetrados, por una parte responsable\"[1]. \n",
    "\n",
    "En consecuencia se analizarán únicamente las colisiones y se dejara por fuera los que a consideración pueden ser catalogados de otra manera. "
   ]
  },
  {
   "cell_type": "code",
   "execution_count": null,
   "metadata": {},
   "outputs": [],
   "source": [
    "## Casos colisión\n",
    "\n",
    "#* 2 = Colisión con animal \n",
    "#* 3 = Colisión con ciclista\n",
    "#* 4 = Colisión con ferrocarril\n",
    "#* 5 = Colisión con motocicleta\n",
    "#* 6 = Colisión con objeto fijo\n",
    "#* 7 = Colisión con peatón (atropellamiento) \n",
    "#* 8 = Colisión con vehículo automotor\n"
   ]
  },
  {
   "cell_type": "code",
   "execution_count": 87,
   "metadata": {},
   "outputs": [
    {
     "data": {
      "text/plain": [
       "(267436, 46)"
      ]
     },
     "execution_count": 87,
     "metadata": {},
     "output_type": "execute_result"
    }
   ],
   "source": [
    "# Filtra los datos por la colisión\n",
    "colision = datos.loc[(datos[\"tipaccid_cod\"].isin([2,3, 4,5,6,7,8]))]\n",
    "\n",
    "colision.shape"
   ]
  },
  {
   "cell_type": "code",
   "execution_count": null,
   "metadata": {},
   "outputs": [],
   "source": [
    "## Otros casos de accidentes\n",
    "\n",
    "#* 1 = Caida de pasajero\n",
    "#* 9 = Incendio\n",
    "#* 10 = Otro\n",
    "#* 11 = Salida del camino\n",
    "#* 12 = Volcadura \n"
   ]
  },
  {
   "cell_type": "markdown",
   "metadata": {},
   "source": [
    "## Gráfica - Histograma de accidentes de colisión por sexo"
   ]
  },
  {
   "cell_type": "markdown",
   "metadata": {},
   "source": [
    "Según datos de la Secretaría de Infraestructura, Comunicaciones y Transportes (SICT) revelan que el padrón de conductores del servicio de autotransporte federal y privado contaba en septiembre de 2022 con una plantilla de 500 mil 463 hombres y solo dos mil 703 mujeres, es decir, el 99.5% son conductores hombres y el 0.5% mujeres. Para determinar quiénes chocan más, los hombres o las mujeres, podemos calcular la proporción de choques por género. Luego, podemos calcular cuántos hombres chocan por cada mujer."
   ]
  },
  {
   "cell_type": "code",
   "execution_count": null,
   "metadata": {},
   "outputs": [],
   "source": [
    "# CLAVE DESCRIPCIÓN\n",
    "# 1 - MUJER\n",
    "# 2 - HOMBRE\n",
    "\n",
    "colision['SEXO'].value_counts()"
   ]
  },
  {
   "cell_type": "code",
   "execution_count": null,
   "metadata": {},
   "outputs": [],
   "source": [
    "#cantidad de colisiones por edad\n",
    "\n",
    "colision['ID_EDAD'].value_counts()"
   ]
  },
  {
   "cell_type": "code",
   "execution_count": 88,
   "metadata": {},
   "outputs": [],
   "source": [
    "# Colisiones generadas por sexo: Hombre y por edad\n",
    "columnas_originales = ['COBERTURA', 'ID_ENTIDAD', 'ID_MUNICIPIO', 'ANIO', 'MES', 'ID_HORA', 'ID_MINUTO', 'ID_DIA', \n",
    "                       'DIASEMANA', 'URBANA', 'SUBURBANA', 'TIPACCID', 'AUTOMOVIL', 'CAMPASAJ', 'MICROBUS', 'PASCAMION',\n",
    "                       'OMNIBUS', 'TRANVIA', 'CAMIONETA', 'CAMION', 'TRACTOR', 'FERROCARRI', 'MOTOCICLET', 'BICICLETA',\n",
    "                       'OTROVEHIC', 'CAUSAACCI', 'CAPAROD', 'SEXO', 'ALIENTO', 'CINTURON', 'ID_EDAD', 'CONDHERIDO', \n",
    "                       'PASAHERIDO', 'PEATHERIDO', 'CICLHERIDO', 'OTROHERIDO', 'NEHERIDO', 'CLASACC', 'ESTATUS']\n",
    "columnas_muertos = ['PASAMUERTO', 'PEATMUERTO', 'CONDMUERTO', 'CICLMUERTO', 'OTROMUERTO', 'NEMUERTO']\n",
    "columnas_heridos = ['CONDHERIDO', 'PASAHERIDO', 'PEATHERIDO', 'CICLHERIDO', 'OTROHERIDO', 'NEHERIDO']\n",
    "\n",
    "# Calcula la suma de las columnas de muertos y asigna el resultado a una nueva columna llamada \"muertos\"\n",
    "#datos['muertos'] = datos[columnas_muertos].sum(axis=1)\n",
    "colision['muertos'] = datos[columnas_muertos].sum(axis=1)\n",
    "\n",
    "colision['heridos']= datos[columnas_heridos].sum(axis=1)"
   ]
  },
  {
   "cell_type": "markdown",
   "metadata": {},
   "source": [
    "Calcular la proporción de choques por género:\n",
    "#### Hombres: 218,662 choques\n",
    "#### Mujeres: 48,774 choques\n",
    "   Proporción de choques para hombres: $\\frac{218,662}{500,463}$ = 0.436\n",
    "   Proporción de choques para mujeres: $\\frac{48,774}{2703}$ = 18.046\n",
    "\n",
    "Comprobando las proporciones:\n",
    "La proporción de choques por conductor es significativamente mayor para las mujeres (18.046) que para los hombres (0.436).\n",
    "Entonces, aunque hay muchos más choques en términos absolutos causados por hombres debido a su gran mayoría en la población de conductores, en promedio, las mujeres tienen más probabilidades de verse involucradas en un choque. \n",
    "\n",
    "¿Cuántos hombres chocan por cada mujer?\n",
    "\n",
    "$\\frac{0.436}{18.046}$ = 0.024\n",
    "Por lo tanto, aproximadamente 0.024 hombres chocan por cada mujer que choca.\n",
    "\n",
    "En resumen, aunque hay más choques totales causados por hombres debido a su mayoría en el número de conductores, en promedio, las mujeres tienen más probabilidades de chocar. Por cada mujer que choca, aproximadamente 0.024 hombres chocan."
   ]
  },
  {
   "cell_type": "code",
   "execution_count": 21,
   "metadata": {},
   "outputs": [
    {
     "data": {
      "text/plain": [
       "0     265411\n",
       "1       1847\n",
       "2        131\n",
       "3         29\n",
       "4         12\n",
       "6          3\n",
       "5          2\n",
       "10         1\n",
       "Name: muertos, dtype: int64"
      ]
     },
     "execution_count": 21,
     "metadata": {},
     "output_type": "execute_result"
    }
   ],
   "source": [
    "colision['muertos'].value_counts()"
   ]
  },
  {
   "cell_type": "code",
   "execution_count": 22,
   "metadata": {},
   "outputs": [
    {
     "data": {
      "text/plain": [
       "0     221277\n",
       "1      35457\n",
       "2       7605\n",
       "3       1837\n",
       "4        695\n",
       "5        277\n",
       "6        107\n",
       "7         61\n",
       "8         38\n",
       "10        19\n",
       "9         13\n",
       "13         8\n",
       "15         8\n",
       "11         7\n",
       "12         6\n",
       "16         4\n",
       "14         3\n",
       "22         2\n",
       "19         2\n",
       "18         2\n",
       "26         1\n",
       "21         1\n",
       "25         1\n",
       "31         1\n",
       "43         1\n",
       "20         1\n",
       "23         1\n",
       "27         1\n",
       "Name: heridos, dtype: int64"
      ]
     },
     "execution_count": 22,
     "metadata": {},
     "output_type": "execute_result"
    }
   ],
   "source": [
    "colision['heridos'].value_counts()"
   ]
  },
  {
   "cell_type": "code",
   "execution_count": null,
   "metadata": {},
   "outputs": [],
   "source": [
    "# Colisiones generadas por sexo: Mujer y por edad\n",
    "colision[colision['SEXO'] == 1 ]['ID_EDAD']"
   ]
  },
  {
   "cell_type": "code",
   "execution_count": null,
   "metadata": {},
   "outputs": [],
   "source": [
    "# Histograma:\n",
    "\n",
    "H = colision[colision['SEXO'] == 2]['ID_EDAD']\n",
    "\n",
    "M = colision[colision['SEXO'] == 1]['ID_EDAD']\n",
    "\n",
    "\n",
    "plt.figure(figsize=(10, 6))  \n",
    "\n",
    "# Añadir los histogramas. alpha es para la opacidad.\n",
    "plt.hist(H, bins=30, alpha=0.75, label='Hombres')\n",
    "plt.hist(M, bins=30, alpha=0.75, label='Mujeres')\n",
    "\n",
    "\n",
    "# Configurar las leyendas\n",
    "plt.legend(loc = 'upper right')\n",
    "\n",
    "# Título y etiquetas\n",
    "plt.title('Accidentes por colisión acumulados por edad', fontsize=16, fontname='Times New Roman', pad=20)\n",
    "plt.xlabel('Edad', fontsize=14, fontname='Times New Roman')\n",
    "plt.ylabel('Frecuencia', fontsize=14, fontname='Times New Roman')\n",
    "\n",
    "plt.show()"
   ]
  },
  {
   "cell_type": "code",
   "execution_count": null,
   "metadata": {},
   "outputs": [],
   "source": [
    "# Cantidad de colisiones por día de la semana\n",
    "# Los días de la semana en la que se presentan la mayor cantidad de accidentes son Sabado, Viernes, Lunes, Jueves\n",
    "\n",
    "colision[\"DIASEMANA\"].value_counts()"
   ]
  },
  {
   "cell_type": "code",
   "execution_count": null,
   "metadata": {},
   "outputs": [],
   "source": [
    "# Cantidad de colisiones por hora\n",
    "\n",
    "colision[\"ID_HORA\"].value_counts()"
   ]
  },
  {
   "cell_type": "code",
   "execution_count": null,
   "metadata": {},
   "outputs": [],
   "source": [
    "# Cantidad de colisiones el día sabado por hora\n",
    "colision[colision['DIASEMANA'] == 'Sabado' ]['ID_HORA'].value_counts()"
   ]
  },
  {
   "cell_type": "code",
   "execution_count": null,
   "metadata": {},
   "outputs": [],
   "source": [
    "# Cantidad de colisiones el día Viernes por hora\n",
    "colision[colision['DIASEMANA'] == 'Viernes' ]['ID_HORA'].value_counts()"
   ]
  },
  {
   "cell_type": "code",
   "execution_count": null,
   "metadata": {},
   "outputs": [],
   "source": [
    "# Cantidad de colisiones el día Lunes por hora\n",
    "colision[colision['DIASEMANA'] == 'lunes' ]['ID_HORA'].value_counts()"
   ]
  },
  {
   "cell_type": "code",
   "execution_count": null,
   "metadata": {},
   "outputs": [],
   "source": [
    "# Cantidad de colisiones el día Jueves por hora\n",
    "colision[colision['DIASEMANA'] == 'Jueves' ]['ID_HORA'].value_counts()"
   ]
  },
  {
   "cell_type": "code",
   "execution_count": null,
   "metadata": {},
   "outputs": [],
   "source": [
    "# Histograma:\n",
    "\n",
    "S = colision[colision['DIASEMANA'] == 'Sabado' ]['ID_HORA']\n",
    "V = colision[colision['DIASEMANA'] == 'Viernes' ]['ID_HORA']\n",
    "\n",
    "#L = colision[colision['DIASEMANA'] == 'lunes' ]['ID_HORA'].value_counts()\n",
    "\n",
    "J = colision[colision['DIASEMANA'] == 'Jueves' ]['ID_HORA']\n",
    "\n",
    "plt.figure(figsize=(10, 6))  \n",
    "\n",
    "# Añadir los histogramas. alpha es para la opacidad.\n",
    "plt.hist(S, bins=30, alpha=0.75, label='Sabado')\n",
    "plt.hist(V, bins=30, alpha=0.75, label='Viernes')\n",
    "#plt.hist(L, bins=30, alpha=0.75, label='Lunes')\n",
    "plt.hist(J, bins=30, alpha=0.75, label='Jueves')\n",
    "\n",
    "# Configurar las leyendas\n",
    "plt.legend(loc = 'upper right')\n",
    "\n",
    "# Título y etiquetas\n",
    "plt.title('Accidentes por colisión acumulados en Sábado, Viernes, Jueves', fontsize=16, fontname='Times New Roman', pad=20)\n",
    "plt.xlabel('Hora', fontsize=14, fontname='Times New Roman')\n",
    "plt.ylabel('Frecuencia', fontsize=14, fontname='Times New Roman')\n",
    "\n",
    "plt.show()"
   ]
  },
  {
   "cell_type": "markdown",
   "metadata": {},
   "source": [
    "## Accidentes por colisión\n",
    "\n"
   ]
  },
  {
   "cell_type": "code",
   "execution_count": 24,
   "metadata": {},
   "outputs": [
    {
     "data": {
      "text/plain": [
       "0     265411\n",
       "1       1847\n",
       "2        131\n",
       "3         29\n",
       "4         12\n",
       "6          3\n",
       "5          2\n",
       "10         1\n",
       "Name: muertos, dtype: int64"
      ]
     },
     "execution_count": 24,
     "metadata": {},
     "output_type": "execute_result"
    }
   ],
   "source": [
    "colision['muertos'].value_counts()"
   ]
  },
  {
   "cell_type": "code",
   "execution_count": 23,
   "metadata": {},
   "outputs": [
    {
     "data": {
      "text/plain": [
       "0     221277\n",
       "1      35457\n",
       "2       7605\n",
       "3       1837\n",
       "4        695\n",
       "5        277\n",
       "6        107\n",
       "7         61\n",
       "8         38\n",
       "10        19\n",
       "9         13\n",
       "13         8\n",
       "15         8\n",
       "11         7\n",
       "12         6\n",
       "16         4\n",
       "14         3\n",
       "22         2\n",
       "19         2\n",
       "18         2\n",
       "26         1\n",
       "21         1\n",
       "25         1\n",
       "31         1\n",
       "43         1\n",
       "20         1\n",
       "23         1\n",
       "27         1\n",
       "Name: heridos, dtype: int64"
      ]
     },
     "execution_count": 23,
     "metadata": {},
     "output_type": "execute_result"
    }
   ],
   "source": [
    "colision['heridos'].value_counts()"
   ]
  },
  {
   "cell_type": "code",
   "execution_count": null,
   "metadata": {},
   "outputs": [],
   "source": [
    "## Gráfica - Histograma colisión con/sin aliento por edad"
   ]
  },
  {
   "cell_type": "code",
   "execution_count": null,
   "metadata": {},
   "outputs": [],
   "source": [
    "#datos.head"
   ]
  },
  {
   "cell_type": "code",
   "execution_count": 28,
   "metadata": {},
   "outputs": [
    {
     "data": {
      "text/plain": [
       "6         0\n",
       "12        0\n",
       "224       0\n",
       "375       0\n",
       "387       1\n",
       "         ..\n",
       "288749    0\n",
       "288752    2\n",
       "288753    2\n",
       "288755    0\n",
       "288830    0\n",
       "Name: heridos, Length: 51694, dtype: int64"
      ]
     },
     "execution_count": 28,
     "metadata": {},
     "output_type": "execute_result"
    }
   ],
   "source": [
    "colision[colision['ALIENTO'] == 3 ]['heridos']"
   ]
  },
  {
   "cell_type": "code",
   "execution_count": 29,
   "metadata": {},
   "outputs": [
    {
     "data": {
      "text/plain": [
       "6         1\n",
       "12        1\n",
       "224       0\n",
       "375       0\n",
       "387       0\n",
       "         ..\n",
       "288749    0\n",
       "288752    1\n",
       "288753    0\n",
       "288755    0\n",
       "288830    1\n",
       "Name: muertos, Length: 51694, dtype: int64"
      ]
     },
     "execution_count": 29,
     "metadata": {},
     "output_type": "execute_result"
    }
   ],
   "source": [
    "colision[colision['ALIENTO'] == 3 ]['muertos']"
   ]
  },
  {
   "cell_type": "code",
   "execution_count": 25,
   "metadata": {},
   "outputs": [
    {
     "data": {
      "text/plain": [
       "0         20\n",
       "1         53\n",
       "5         32\n",
       "9         55\n",
       "15        24\n",
       "          ..\n",
       "289228    23\n",
       "289230    39\n",
       "289235    21\n",
       "289242    37\n",
       "289257    38\n",
       "Name: ID_EDAD, Length: 15997, dtype: int64"
      ]
     },
     "execution_count": 25,
     "metadata": {},
     "output_type": "execute_result"
    }
   ],
   "source": [
    "# CLAVE\tDESCRIPCIÓN ALIENTO EN ACCIDENTE POR COLISIÓN Y POR EDAD\n",
    "# 1 - Si\n",
    "# 2 - NO\n",
    "# 3- Se ignora\n",
    "\n",
    "colision[colision['ALIENTO'] == 1 ]['ID_EDAD']\n"
   ]
  },
  {
   "cell_type": "code",
   "execution_count": null,
   "metadata": {},
   "outputs": [],
   "source": [
    "colision[colision['ALIENTO'] == 1 ]['ID_EDAD']"
   ]
  },
  {
   "cell_type": "code",
   "execution_count": null,
   "metadata": {},
   "outputs": [],
   "source": [
    "# Histograma:\n",
    "\n",
    "AA = colision[colision['ALIENTO'] == 1 ]['ID_EDAD']\n",
    "\n",
    "A = colision[colision['ALIENTO'] == 2 ]['ID_EDAD']\n",
    "SA=colision[colision['ALIENTO'] == 3 ]['ID_EDAD']\n",
    "\n",
    "plt.figure(figsize=(10, 6))  \n",
    "\n",
    "# Añadir los histogramas. alpha es para la opacidad.\n",
    "plt.hist(A, bins=30, alpha=0.75, label='NO ALIENTO',color='grey')\n",
    "plt.hist(AA, bins=30, alpha=0.75, label='ALIENTO', color='pink')\n",
    "plt.hist(SA, bins=30, alpha=0.75, label='SE IGNORA',color='white')\n",
    "\n",
    "# Configurar las leyendas\n",
    "plt.legend(loc = 'upper right')\n",
    "\n",
    "# Título y etiquetas\n",
    "plt.title('Colisiones acumuladas dependiendo si había Aliento Alcohólico por Edad)', fontsize=16, fontname='Times New Roman', pad=20)\n",
    "plt.xlabel('Edad', fontsize=14, fontname='Times New Roman')\n",
    "plt.ylabel('Frecuencia', fontsize=14, fontname='Times New Roman')\n",
    "\n",
    "plt.show()"
   ]
  },
  {
   "cell_type": "code",
   "execution_count": 32,
   "metadata": {},
   "outputs": [
    {
     "data": {
      "text/plain": [
       "(35229, 48)"
      ]
     },
     "execution_count": 32,
     "metadata": {},
     "output_type": "execute_result"
    }
   ],
   "source": [
    "# Colisiones con mayor cantidad de incidencias\n",
    "#* 5 = Colisión con motocicleta\n",
    "#* 6 = Colisión con objeto fijo\n",
    "#* 8 = Colisión con vehículo automotor\n",
    "Colision_dia = colision[ ( colision[\"tipaccid_cod\"].isin( [8,5,6] ) ) & ( colision['ID_DIA'].isin([3,1,6,7]) ) ]\n",
    "Colision_dia.shape \n",
    "\n"
   ]
  },
  {
   "cell_type": "code",
   "execution_count": 34,
   "metadata": {},
   "outputs": [
    {
     "data": {
      "text/plain": [
       "2    28755\n",
       "1     6474\n",
       "Name: SEXO, dtype: int64"
      ]
     },
     "execution_count": 34,
     "metadata": {},
     "output_type": "execute_result"
    }
   ],
   "source": [
    "# Agrupamiento de colisiones seleccionadas por sexo\n",
    "# 1 - MUJER\n",
    "# 2 - HOMBRE\n",
    "\n",
    "Colision_dia['SEXO'].value_counts()\n"
   ]
  },
  {
   "cell_type": "code",
   "execution_count": 40,
   "metadata": {},
   "outputs": [
    {
     "data": {
      "text/plain": [
       "0         20\n",
       "1         53\n",
       "2         23\n",
       "3         16\n",
       "4         41\n",
       "          ..\n",
       "289227    22\n",
       "289228    23\n",
       "289229    31\n",
       "289231    57\n",
       "289232    17\n",
       "Name: ID_EDAD, Length: 28755, dtype: int64"
      ]
     },
     "execution_count": 40,
     "metadata": {},
     "output_type": "execute_result"
    }
   ],
   "source": [
    "Colision_dia[Colision_dia['SEXO'] == 2]['ID_EDAD']"
   ]
  },
  {
   "cell_type": "code",
   "execution_count": null,
   "metadata": {},
   "outputs": [],
   "source": [
    "# Histograma:\n",
    "\n",
    "H = Colision_dia[(Colision_dia['SEXO'] == 2) ]['ID_EDAD']\n",
    "\n",
    "M = Colision_dia[(Colision_dia['SEXO'] == 1) ]['ID_EDAD']\n",
    "\n",
    "plt.figure(figsize=(10, 6))  \n",
    "\n",
    "# Añadir los histogramas. alpha es para la opacidad.\n",
    "plt.hist(H, bins=30, alpha=0.75, label='Hombres')\n",
    "plt.hist(M, bins=30, alpha=0.75, label='Mujeres')\n",
    "\n",
    "# Configurar las leyendas\n",
    "plt.legend(loc = 'upper right')\n",
    "\n",
    "# Título y etiquetas\n",
    "plt.title('Colisiones acumuladas por edad', fontsize=16, fontname='Times New Roman', pad=20)\n",
    "plt.xlabel('Edad', fontsize=14, fontname='Times New Roman')\n",
    "plt.ylabel('Frecuencia', fontsize=14, fontname='Times New Roman')\n",
    "\n",
    "plt.show()"
   ]
  },
  {
   "cell_type": "code",
   "execution_count": null,
   "metadata": {},
   "outputs": [],
   "source": [
    "##Series de colisiones por fechas"
   ]
  },
  {
   "cell_type": "code",
   "execution_count": 50,
   "metadata": {},
   "outputs": [],
   "source": [
    "#Colision_dia.head"
   ]
  },
  {
   "cell_type": "code",
   "execution_count": 57,
   "metadata": {},
   "outputs": [
    {
     "data": {
      "text/html": [
       "<div>\n",
       "<style scoped>\n",
       "    .dataframe tbody tr th:only-of-type {\n",
       "        vertical-align: middle;\n",
       "    }\n",
       "\n",
       "    .dataframe tbody tr th {\n",
       "        vertical-align: top;\n",
       "    }\n",
       "\n",
       "    .dataframe thead th {\n",
       "        text-align: right;\n",
       "    }\n",
       "</style>\n",
       "<table border=\"1\" class=\"dataframe\">\n",
       "  <thead>\n",
       "    <tr style=\"text-align: right;\">\n",
       "      <th></th>\n",
       "      <th>ID_DIA</th>\n",
       "      <th>Colision_dia</th>\n",
       "    </tr>\n",
       "  </thead>\n",
       "  <tbody>\n",
       "    <tr>\n",
       "      <th>0</th>\n",
       "      <td>1</td>\n",
       "      <td>10415</td>\n",
       "    </tr>\n",
       "    <tr>\n",
       "      <th>1</th>\n",
       "      <td>3</td>\n",
       "      <td>8335</td>\n",
       "    </tr>\n",
       "    <tr>\n",
       "      <th>2</th>\n",
       "      <td>6</td>\n",
       "      <td>8249</td>\n",
       "    </tr>\n",
       "    <tr>\n",
       "      <th>3</th>\n",
       "      <td>7</td>\n",
       "      <td>8230</td>\n",
       "    </tr>\n",
       "  </tbody>\n",
       "</table>\n",
       "</div>"
      ],
      "text/plain": [
       "   ID_DIA  Colision_dia\n",
       "0       1         10415\n",
       "1       3          8335\n",
       "2       6          8249\n",
       "3       7          8230"
      ]
     },
     "execution_count": 57,
     "metadata": {},
     "output_type": "execute_result"
    }
   ],
   "source": [
    "# Agrupando por fechas: \n",
    "# *6=Jueves\n",
    "# * 1=Sabado\n",
    "# * 3 =Lunes\n",
    "# * 7= Viernes\n",
    "\n",
    "Grupo_dia_semana = Colision_dia.groupby(\"ID_DIA\")\n",
    "\n",
    "# Guardamos como Data Frame\n",
    "\n",
    "Serie_colision = Grupo_dia_semana.size().to_frame(\"Colision_dia\").reset_index()\n",
    "\n",
    "Serie_colision.head()"
   ]
  },
  {
   "cell_type": "code",
   "execution_count": null,
   "metadata": {},
   "outputs": [],
   "source": [
    "#series de muertes por fecha de mayor incidencia en colisiones de mayor ocurrencia"
   ]
  },
  {
   "cell_type": "code",
   "execution_count": 54,
   "metadata": {},
   "outputs": [],
   "source": [
    "\n",
    "\n",
    "#Colision_dia = colision[ ( colision[\"tipaccid_cod\"].isin([5,6,8]) )  & ( colision['ID_DIA'].isin([3,1,6,7]) ) ]\n",
    "#Colision_dia.shape"
   ]
  },
  {
   "cell_type": "code",
   "execution_count": 58,
   "metadata": {},
   "outputs": [
    {
     "data": {
      "text/html": [
       "<div>\n",
       "<style scoped>\n",
       "    .dataframe tbody tr th:only-of-type {\n",
       "        vertical-align: middle;\n",
       "    }\n",
       "\n",
       "    .dataframe tbody tr th {\n",
       "        vertical-align: top;\n",
       "    }\n",
       "\n",
       "    .dataframe thead th {\n",
       "        text-align: right;\n",
       "    }\n",
       "</style>\n",
       "<table border=\"1\" class=\"dataframe\">\n",
       "  <thead>\n",
       "    <tr style=\"text-align: right;\">\n",
       "      <th></th>\n",
       "      <th>ID_DIA</th>\n",
       "      <th>muertos</th>\n",
       "    </tr>\n",
       "  </thead>\n",
       "  <tbody>\n",
       "    <tr>\n",
       "      <th>0</th>\n",
       "      <td>1</td>\n",
       "      <td>10415</td>\n",
       "    </tr>\n",
       "    <tr>\n",
       "      <th>1</th>\n",
       "      <td>3</td>\n",
       "      <td>8335</td>\n",
       "    </tr>\n",
       "    <tr>\n",
       "      <th>2</th>\n",
       "      <td>6</td>\n",
       "      <td>8249</td>\n",
       "    </tr>\n",
       "    <tr>\n",
       "      <th>3</th>\n",
       "      <td>7</td>\n",
       "      <td>8230</td>\n",
       "    </tr>\n",
       "  </tbody>\n",
       "</table>\n",
       "</div>"
      ],
      "text/plain": [
       "   ID_DIA  muertos\n",
       "0       1    10415\n",
       "1       3     8335\n",
       "2       6     8249\n",
       "3       7     8230"
      ]
     },
     "execution_count": 58,
     "metadata": {},
     "output_type": "execute_result"
    }
   ],
   "source": [
    "# Agrupando por fechas: \n",
    "# * 6 = Jueves\n",
    "# * 1 = Sabado\n",
    "# * 3 = Lunes\n",
    "# * 7 = Viernes\n",
    "\n",
    "Grupo_muertos_dia = Colision_dia.groupby(\"ID_DIA\")\n",
    "\n",
    "# Guardamos como Data Frame\n",
    "\n",
    "Serie_muertos = Grupo_muertos_dia.size().to_frame(\"muertos\").reset_index()\n",
    "\n",
    "Serie_muertos.head()"
   ]
  },
  {
   "cell_type": "code",
   "execution_count": 7,
   "metadata": {},
   "outputs": [],
   "source": [
    "#print(otros)"
   ]
  },
  {
   "cell_type": "code",
   "execution_count": null,
   "metadata": {},
   "outputs": [],
   "source": [
    "##Series  accidentes por fecha, los de mayor incidencia registrada"
   ]
  },
  {
   "cell_type": "code",
   "execution_count": 56,
   "metadata": {},
   "outputs": [
    {
     "data": {
      "text/html": [
       "<div>\n",
       "<style scoped>\n",
       "    .dataframe tbody tr th:only-of-type {\n",
       "        vertical-align: middle;\n",
       "    }\n",
       "\n",
       "    .dataframe tbody tr th {\n",
       "        vertical-align: top;\n",
       "    }\n",
       "\n",
       "    .dataframe thead th {\n",
       "        text-align: right;\n",
       "    }\n",
       "</style>\n",
       "<table border=\"1\" class=\"dataframe\">\n",
       "  <thead>\n",
       "    <tr style=\"text-align: right;\">\n",
       "      <th></th>\n",
       "      <th>ID_DIA</th>\n",
       "      <th>heridos</th>\n",
       "    </tr>\n",
       "  </thead>\n",
       "  <tbody>\n",
       "    <tr>\n",
       "      <th>0</th>\n",
       "      <td>1</td>\n",
       "      <td>10415</td>\n",
       "    </tr>\n",
       "    <tr>\n",
       "      <th>1</th>\n",
       "      <td>3</td>\n",
       "      <td>8335</td>\n",
       "    </tr>\n",
       "    <tr>\n",
       "      <th>2</th>\n",
       "      <td>6</td>\n",
       "      <td>8249</td>\n",
       "    </tr>\n",
       "    <tr>\n",
       "      <th>3</th>\n",
       "      <td>7</td>\n",
       "      <td>8230</td>\n",
       "    </tr>\n",
       "  </tbody>\n",
       "</table>\n",
       "</div>"
      ],
      "text/plain": [
       "   ID_DIA  heridos\n",
       "0       1    10415\n",
       "1       3     8335\n",
       "2       6     8249\n",
       "3       7     8230"
      ]
     },
     "execution_count": 56,
     "metadata": {},
     "output_type": "execute_result"
    }
   ],
   "source": [
    "#NOTA: ESTA SERIE NO SE TOMA PARA EL GRÁFICO, SOLO LAS COLISIONES MUERTE Y HERIDOS\n",
    "\n",
    "# Agrupando por fechas: \n",
    "# *6=Jueves\n",
    "# * 1=Sabado\n",
    "# * 3 =Lunes\n",
    "# * 7= Viernes\n",
    "\n",
    "Grupo_heridos_dia = Colision_dia.groupby(\"ID_DIA\")\n",
    "\n",
    "# Guardamos como Data Frame\n",
    "\n",
    "Serie_heridos = Grupo_heridos_dia.size().to_frame(\"heridos\").reset_index()\n",
    "\n",
    "Serie_heridos.head()"
   ]
  },
  {
   "cell_type": "code",
   "execution_count": null,
   "metadata": {},
   "outputs": [],
   "source": [
    "## Graficando"
   ]
  },
  {
   "cell_type": "code",
   "execution_count": 81,
   "metadata": {},
   "outputs": [],
   "source": [
    "# Preparamos DataFrame's\n",
    "\n",
    "colision_d = Serie_colision[['ID_DIA','Colision_dia' ]] # Fecha de síntomas\n",
    "\n",
    "muertos_d = Serie_muertos[['ID_DIA','muertos']] # Fecha de ingreso\n",
    "\n",
    "heridos_d = Serie_heridos[['ID_DIA','heridos']] # Fecha de defunción\n",
    "\n"
   ]
  },
  {
   "cell_type": "code",
   "execution_count": 82,
   "metadata": {},
   "outputs": [
    {
     "data": {
      "text/html": [
       "<div>\n",
       "<style scoped>\n",
       "    .dataframe tbody tr th:only-of-type {\n",
       "        vertical-align: middle;\n",
       "    }\n",
       "\n",
       "    .dataframe tbody tr th {\n",
       "        vertical-align: top;\n",
       "    }\n",
       "\n",
       "    .dataframe thead th {\n",
       "        text-align: right;\n",
       "    }\n",
       "</style>\n",
       "<table border=\"1\" class=\"dataframe\">\n",
       "  <thead>\n",
       "    <tr style=\"text-align: right;\">\n",
       "      <th></th>\n",
       "      <th>ID_DIA</th>\n",
       "      <th>Colision</th>\n",
       "      <th>Muertos</th>\n",
       "      <th>Heridos</th>\n",
       "    </tr>\n",
       "  </thead>\n",
       "  <tbody>\n",
       "    <tr>\n",
       "      <th>0</th>\n",
       "      <td>1</td>\n",
       "      <td>10415</td>\n",
       "      <td>10415</td>\n",
       "      <td>10415</td>\n",
       "    </tr>\n",
       "    <tr>\n",
       "      <th>1</th>\n",
       "      <td>3</td>\n",
       "      <td>8335</td>\n",
       "      <td>8335</td>\n",
       "      <td>8335</td>\n",
       "    </tr>\n",
       "    <tr>\n",
       "      <th>2</th>\n",
       "      <td>6</td>\n",
       "      <td>8249</td>\n",
       "      <td>8249</td>\n",
       "      <td>8249</td>\n",
       "    </tr>\n",
       "    <tr>\n",
       "      <th>3</th>\n",
       "      <td>7</td>\n",
       "      <td>8230</td>\n",
       "      <td>8230</td>\n",
       "      <td>8230</td>\n",
       "    </tr>\n",
       "  </tbody>\n",
       "</table>\n",
       "</div>"
      ],
      "text/plain": [
       "   ID_DIA  Colision  Muertos  Heridos\n",
       "0       1     10415    10415    10415\n",
       "1       3      8335     8335     8335\n",
       "2       6      8249     8249     8249\n",
       "3       7      8230     8230     8230"
      ]
     },
     "execution_count": 82,
     "metadata": {},
     "output_type": "execute_result"
    }
   ],
   "source": [
    "# Unimos las series: \n",
    "Series_Casos = pd.merge(colision_d, muertos_d, how = 'outer', on = 'ID_DIA')\n",
    "Series_Casos = Series_Casos.rename(columns = {'Colision_dia': 'Colision'})\n",
    "Series_Casos = Series_Casos.rename(columns = {'muertos': 'Muertos'})\n",
    "Series_Casos = pd.merge(Series_Casos,heridos_d, how = 'outer', on = 'ID_DIA')\n",
    "Series_Casos = Series_Casos.rename(columns = {'heridos': 'Heridos'})\n",
    "Series_Casos.head()\n",
    "\n"
   ]
  },
  {
   "cell_type": "code",
   "execution_count": 83,
   "metadata": {},
   "outputs": [
    {
     "data": {
      "image/png": "[encoded data removed]",
      "text/plain": [
       "<Figure size 1000x600 with 1 Axes>"
      ]
     },
     "metadata": {},
     "output_type": "display_data"
    }
   ],
   "source": [
    "import matplotlib.pyplot as plt\n",
    "import matplotlib.dates as mdates\n",
    "plt.figure(figsize=(10, 6)) \n",
    "\n",
    "# Agrega cada serie de datos como una línea en el gráfico\n",
    "plt.plot(Series_Casos['ID_DIA'], Series_Casos['Colision'], label='Accidente por Colision', color='darkblue')\n",
    "plt.plot(Series_Casos['ID_DIA'], Series_Casos['Heridos'], label='Heridos', color='orange')\n",
    "plt.plot(Series_Casos['ID_DIA'], Series_Casos['Muertos'], label='Muertos por fecha de síntomas', color='darkred')\n",
    "#plt.plot(Series_Casos['Fecha'], Series_Casos['Defunciones_Muer'], label='Defunciones por fecha de muerte', color='darkgreen')\n",
    "\n",
    "# Configura el título y las leyendas\n",
    "plt.title('(Casos de accidentes por colisión/otros con heridos/muertos (por día de la semana)')\n",
    "plt.legend()\n",
    "\n",
    "# Formato de la fecha en el eje X\n",
    "plt.gca().xaxis.set_major_formatter(mdates.DateFormatter('%A'))\n",
    "plt.xticks(rotation=45)  # Rota las fechas para mejor lectura\n",
    "\n",
    "# Muestra el gráfico\n",
    "plt.tight_layout()  \n",
    "plt.show()"
   ]
  },
  {
   "cell_type": "code",
   "execution_count": 84,
   "metadata": {},
   "outputs": [],
   "source": [
    "#REsultados a archivo CSV:\n",
    "Series_Casos.to_csv('Series_Casos.csv',index=False,encoding='utf-8-sig')"
   ]
  },
  {
   "cell_type": "markdown",
   "metadata": {},
   "source": [
    "## Algoritmos de agrupamiento (clustering)\n",
    "\n",
    "Sabemos que los algoritmos pertenecientes a la familia del Aprendizaje No Supervisado no tienen ninguna variable que predecir ligada a los datos. En lugar de tener una salida, los datos solo tienen una entrada que serían múltiples variables que describen los datos. Aquí es donde entra en juego la agrupación.\n",
    "\n",
    "Clustering es la tarea de agrupar un conjunto de objetos de manera que los objetos del mismo grupo sean más similares entre sí que a los objetos de otros grupos. La similitud es una métrica que refleja la fuerza de la relación entre dos objetos de datos. \n",
    "\n",
    "La agrupación en clústeres se utiliza principalmente (pero no exclusivamente) para la exploración de datos. Tiene múltiples usos en muchos campos, como el machine learning, el reconocimiento de patrones, el análisis de imágenes, la recuperación de información, la bioinformática, la compresión de datos y los gráficos por computadora.\n",
    "\n",
    "Hacemos un repaso de esas técnicas.\n",
    "\n",
    "### K-medias\n",
    "\n",
    "Existen muchos modelos de agrupación. Revisaremos los más populares. A pesar de su simplicidad, K-means se utiliza ampliamente para la agrupación en clústeres en muchas aplicaciones de ciencia de datos, lo que es especialmente útil si necesita descubrir rápidamente información a partir de datos sin etiquetar. En este notebook, vemos cómo utilizar k-Means para la segmentación de casos."
   ]
  },
  {
   "cell_type": "code",
   "execution_count": 89,
   "metadata": {},
   "outputs": [
    {
     "data": {
      "text/plain": [
       "(255497, 48)"
      ]
     },
     "execution_count": 89,
     "metadata": {},
     "output_type": "execute_result"
    }
   ],
   "source": [
    "#\n",
    "\n",
    "colisiones_KM = colision.loc[(datos[\"tipaccid_cod\"].isin([5,6,8]))]\n",
    "\n",
    "colisiones_KM.shape"
   ]
  },
  {
   "cell_type": "code",
   "execution_count": 90,
   "metadata": {},
   "outputs": [
    {
     "data": {
      "text/html": [
       "<div>\n",
       "<style scoped>\n",
       "    .dataframe tbody tr th:only-of-type {\n",
       "        vertical-align: middle;\n",
       "    }\n",
       "\n",
       "    .dataframe tbody tr th {\n",
       "        vertical-align: top;\n",
       "    }\n",
       "\n",
       "    .dataframe thead th {\n",
       "        text-align: right;\n",
       "    }\n",
       "</style>\n",
       "<table border=\"1\" class=\"dataframe\">\n",
       "  <thead>\n",
       "    <tr style=\"text-align: right;\">\n",
       "      <th></th>\n",
       "      <th>COBERTURA</th>\n",
       "      <th>ID_ENTIDAD</th>\n",
       "      <th>ID_MUNICIPIO</th>\n",
       "      <th>ANIO</th>\n",
       "      <th>MES</th>\n",
       "      <th>ID_HORA</th>\n",
       "      <th>ID_MINUTO</th>\n",
       "      <th>ID_DIA</th>\n",
       "      <th>DIASEMANA</th>\n",
       "      <th>URBANA</th>\n",
       "      <th>SUBURBANA</th>\n",
       "      <th>TIPACCID</th>\n",
       "      <th>tipaccid_cod</th>\n",
       "      <th>AUTOMOVIL</th>\n",
       "      <th>CAMPASAJ</th>\n",
       "      <th>MICROBUS</th>\n",
       "      <th>PASCAMION</th>\n",
       "      <th>OMNIBUS</th>\n",
       "      <th>TRANVIA</th>\n",
       "      <th>CAMIONETA</th>\n",
       "      <th>CAMION</th>\n",
       "      <th>TRACTOR</th>\n",
       "      <th>FERROCARRI</th>\n",
       "      <th>MOTOCICLET</th>\n",
       "      <th>BICICLETA</th>\n",
       "      <th>OTROVEHIC</th>\n",
       "      <th>CAUSAACCI</th>\n",
       "      <th>CAPAROD</th>\n",
       "      <th>SEXO</th>\n",
       "      <th>ALIENTO</th>\n",
       "      <th>CINTURON</th>\n",
       "      <th>ID_EDAD</th>\n",
       "      <th>CONDMUERTO</th>\n",
       "      <th>CONDHERIDO</th>\n",
       "      <th>PASAMUERTO</th>\n",
       "      <th>PASAHERIDO</th>\n",
       "      <th>PEATMUERTO</th>\n",
       "      <th>PEATHERIDO</th>\n",
       "      <th>CICLMUERTO</th>\n",
       "      <th>CICLHERIDO</th>\n",
       "      <th>OTROMUERTO</th>\n",
       "      <th>OTROHERIDO</th>\n",
       "      <th>NEMUERTO</th>\n",
       "      <th>NEHERIDO</th>\n",
       "      <th>CLASACC</th>\n",
       "      <th>ESTATUS</th>\n",
       "      <th>muertos</th>\n",
       "      <th>heridos</th>\n",
       "    </tr>\n",
       "  </thead>\n",
       "  <tbody>\n",
       "    <tr>\n",
       "      <th>289260</th>\n",
       "      <td>Municipal</td>\n",
       "      <td>32</td>\n",
       "      <td>56</td>\n",
       "      <td>2022</td>\n",
       "      <td>12</td>\n",
       "      <td>7</td>\n",
       "      <td>38</td>\n",
       "      <td>30</td>\n",
       "      <td>Viernes</td>\n",
       "      <td>Accidente en intersección</td>\n",
       "      <td>Sin accidente en esta zona</td>\n",
       "      <td>Colisión con objeto fijo</td>\n",
       "      <td>6</td>\n",
       "      <td>1</td>\n",
       "      <td>0</td>\n",
       "      <td>0</td>\n",
       "      <td>0</td>\n",
       "      <td>0</td>\n",
       "      <td>0</td>\n",
       "      <td>0</td>\n",
       "      <td>0</td>\n",
       "      <td>0</td>\n",
       "      <td>0</td>\n",
       "      <td>0</td>\n",
       "      <td>0</td>\n",
       "      <td>0</td>\n",
       "      <td>Conductor</td>\n",
       "      <td>Pavimentada</td>\n",
       "      <td>2</td>\n",
       "      <td>2</td>\n",
       "      <td>3</td>\n",
       "      <td>50</td>\n",
       "      <td>0</td>\n",
       "      <td>0</td>\n",
       "      <td>0</td>\n",
       "      <td>0</td>\n",
       "      <td>0</td>\n",
       "      <td>0</td>\n",
       "      <td>0</td>\n",
       "      <td>0</td>\n",
       "      <td>0</td>\n",
       "      <td>0</td>\n",
       "      <td>0</td>\n",
       "      <td>0</td>\n",
       "      <td>Sólo daños</td>\n",
       "      <td>Cifras Definitivas</td>\n",
       "      <td>0</td>\n",
       "      <td>0</td>\n",
       "    </tr>\n",
       "    <tr>\n",
       "      <th>289261</th>\n",
       "      <td>Municipal</td>\n",
       "      <td>32</td>\n",
       "      <td>56</td>\n",
       "      <td>2022</td>\n",
       "      <td>12</td>\n",
       "      <td>7</td>\n",
       "      <td>45</td>\n",
       "      <td>30</td>\n",
       "      <td>Viernes</td>\n",
       "      <td>Accidente en intersección</td>\n",
       "      <td>Sin accidente en esta zona</td>\n",
       "      <td>Colisión con objeto fijo</td>\n",
       "      <td>6</td>\n",
       "      <td>1</td>\n",
       "      <td>0</td>\n",
       "      <td>0</td>\n",
       "      <td>0</td>\n",
       "      <td>0</td>\n",
       "      <td>0</td>\n",
       "      <td>0</td>\n",
       "      <td>0</td>\n",
       "      <td>0</td>\n",
       "      <td>0</td>\n",
       "      <td>0</td>\n",
       "      <td>0</td>\n",
       "      <td>0</td>\n",
       "      <td>Conductor</td>\n",
       "      <td>Pavimentada</td>\n",
       "      <td>1</td>\n",
       "      <td>2</td>\n",
       "      <td>3</td>\n",
       "      <td>31</td>\n",
       "      <td>0</td>\n",
       "      <td>1</td>\n",
       "      <td>0</td>\n",
       "      <td>0</td>\n",
       "      <td>0</td>\n",
       "      <td>0</td>\n",
       "      <td>0</td>\n",
       "      <td>0</td>\n",
       "      <td>0</td>\n",
       "      <td>0</td>\n",
       "      <td>0</td>\n",
       "      <td>0</td>\n",
       "      <td>2 fatal</td>\n",
       "      <td>Cifras Definitivas</td>\n",
       "      <td>0</td>\n",
       "      <td>1</td>\n",
       "    </tr>\n",
       "    <tr>\n",
       "      <th>289262</th>\n",
       "      <td>Municipal</td>\n",
       "      <td>32</td>\n",
       "      <td>56</td>\n",
       "      <td>2022</td>\n",
       "      <td>12</td>\n",
       "      <td>8</td>\n",
       "      <td>0</td>\n",
       "      <td>30</td>\n",
       "      <td>Viernes</td>\n",
       "      <td>Accidente en intersección</td>\n",
       "      <td>Sin accidente en esta zona</td>\n",
       "      <td>Colisión con vehículo automotor</td>\n",
       "      <td>8</td>\n",
       "      <td>1</td>\n",
       "      <td>1</td>\n",
       "      <td>0</td>\n",
       "      <td>0</td>\n",
       "      <td>0</td>\n",
       "      <td>0</td>\n",
       "      <td>0</td>\n",
       "      <td>0</td>\n",
       "      <td>0</td>\n",
       "      <td>0</td>\n",
       "      <td>0</td>\n",
       "      <td>0</td>\n",
       "      <td>0</td>\n",
       "      <td>Conductor</td>\n",
       "      <td>Pavimentada</td>\n",
       "      <td>2</td>\n",
       "      <td>2</td>\n",
       "      <td>3</td>\n",
       "      <td>35</td>\n",
       "      <td>0</td>\n",
       "      <td>0</td>\n",
       "      <td>0</td>\n",
       "      <td>0</td>\n",
       "      <td>0</td>\n",
       "      <td>0</td>\n",
       "      <td>0</td>\n",
       "      <td>0</td>\n",
       "      <td>0</td>\n",
       "      <td>0</td>\n",
       "      <td>0</td>\n",
       "      <td>0</td>\n",
       "      <td>Sólo daños</td>\n",
       "      <td>Cifras Definitivas</td>\n",
       "      <td>0</td>\n",
       "      <td>0</td>\n",
       "    </tr>\n",
       "    <tr>\n",
       "      <th>289263</th>\n",
       "      <td>Municipal</td>\n",
       "      <td>32</td>\n",
       "      <td>56</td>\n",
       "      <td>2022</td>\n",
       "      <td>12</td>\n",
       "      <td>14</td>\n",
       "      <td>45</td>\n",
       "      <td>31</td>\n",
       "      <td>Sabado</td>\n",
       "      <td>Accidente en intersección</td>\n",
       "      <td>Sin accidente en esta zona</td>\n",
       "      <td>Colisión con vehículo automotor</td>\n",
       "      <td>8</td>\n",
       "      <td>0</td>\n",
       "      <td>2</td>\n",
       "      <td>0</td>\n",
       "      <td>0</td>\n",
       "      <td>0</td>\n",
       "      <td>0</td>\n",
       "      <td>0</td>\n",
       "      <td>0</td>\n",
       "      <td>0</td>\n",
       "      <td>0</td>\n",
       "      <td>0</td>\n",
       "      <td>0</td>\n",
       "      <td>0</td>\n",
       "      <td>Conductor</td>\n",
       "      <td>Pavimentada</td>\n",
       "      <td>2</td>\n",
       "      <td>2</td>\n",
       "      <td>3</td>\n",
       "      <td>48</td>\n",
       "      <td>0</td>\n",
       "      <td>0</td>\n",
       "      <td>0</td>\n",
       "      <td>0</td>\n",
       "      <td>0</td>\n",
       "      <td>0</td>\n",
       "      <td>0</td>\n",
       "      <td>0</td>\n",
       "      <td>0</td>\n",
       "      <td>0</td>\n",
       "      <td>0</td>\n",
       "      <td>0</td>\n",
       "      <td>Sólo daños</td>\n",
       "      <td>Cifras Definitivas</td>\n",
       "      <td>0</td>\n",
       "      <td>0</td>\n",
       "    </tr>\n",
       "    <tr>\n",
       "      <th>289264</th>\n",
       "      <td>Municipal</td>\n",
       "      <td>32</td>\n",
       "      <td>56</td>\n",
       "      <td>2022</td>\n",
       "      <td>12</td>\n",
       "      <td>22</td>\n",
       "      <td>15</td>\n",
       "      <td>31</td>\n",
       "      <td>Sabado</td>\n",
       "      <td>Accidente en intersección</td>\n",
       "      <td>Sin accidente en esta zona</td>\n",
       "      <td>Colisión con motocicleta</td>\n",
       "      <td>5</td>\n",
       "      <td>0</td>\n",
       "      <td>1</td>\n",
       "      <td>0</td>\n",
       "      <td>0</td>\n",
       "      <td>0</td>\n",
       "      <td>0</td>\n",
       "      <td>0</td>\n",
       "      <td>0</td>\n",
       "      <td>0</td>\n",
       "      <td>0</td>\n",
       "      <td>1</td>\n",
       "      <td>0</td>\n",
       "      <td>0</td>\n",
       "      <td>Conductor</td>\n",
       "      <td>Pavimentada</td>\n",
       "      <td>2</td>\n",
       "      <td>2</td>\n",
       "      <td>3</td>\n",
       "      <td>27</td>\n",
       "      <td>0</td>\n",
       "      <td>0</td>\n",
       "      <td>0</td>\n",
       "      <td>0</td>\n",
       "      <td>0</td>\n",
       "      <td>0</td>\n",
       "      <td>0</td>\n",
       "      <td>0</td>\n",
       "      <td>0</td>\n",
       "      <td>0</td>\n",
       "      <td>0</td>\n",
       "      <td>0</td>\n",
       "      <td>Sólo daños</td>\n",
       "      <td>Cifras Definitivas</td>\n",
       "      <td>0</td>\n",
       "      <td>0</td>\n",
       "    </tr>\n",
       "  </tbody>\n",
       "</table>\n",
       "</div>"
      ],
      "text/plain": [
       "        COBERTURA  ID_ENTIDAD  ID_MUNICIPIO  ANIO  MES  ID_HORA  ID_MINUTO  \\\n",
       "289260  Municipal          32            56  2022   12        7         38   \n",
       "289261  Municipal          32            56  2022   12        7         45   \n",
       "289262  Municipal          32            56  2022   12        8          0   \n",
       "289263  Municipal          32            56  2022   12       14         45   \n",
       "289264  Municipal          32            56  2022   12       22         15   \n",
       "\n",
       "        ID_DIA DIASEMANA                     URBANA  \\\n",
       "289260      30   Viernes  Accidente en intersección   \n",
       "289261      30   Viernes  Accidente en intersección   \n",
       "289262      30   Viernes  Accidente en intersección   \n",
       "289263      31    Sabado  Accidente en intersección   \n",
       "289264      31    Sabado  Accidente en intersección   \n",
       "\n",
       "                         SUBURBANA                         TIPACCID  \\\n",
       "289260  Sin accidente en esta zona         Colisión con objeto fijo   \n",
       "289261  Sin accidente en esta zona         Colisión con objeto fijo   \n",
       "289262  Sin accidente en esta zona  Colisión con vehículo automotor   \n",
       "289263  Sin accidente en esta zona  Colisión con vehículo automotor   \n",
       "289264  Sin accidente en esta zona         Colisión con motocicleta   \n",
       "\n",
       "        tipaccid_cod  AUTOMOVIL  CAMPASAJ  MICROBUS  PASCAMION  OMNIBUS  \\\n",
       "289260             6          1         0         0          0        0   \n",
       "289261             6          1         0         0          0        0   \n",
       "289262             8          1         1         0          0        0   \n",
       "289263             8          0         2         0          0        0   \n",
       "289264             5          0         1         0          0        0   \n",
       "\n",
       "        TRANVIA  CAMIONETA  CAMION  TRACTOR  FERROCARRI  MOTOCICLET  \\\n",
       "289260        0          0       0        0           0           0   \n",
       "289261        0          0       0        0           0           0   \n",
       "289262        0          0       0        0           0           0   \n",
       "289263        0          0       0        0           0           0   \n",
       "289264        0          0       0        0           0           1   \n",
       "\n",
       "        BICICLETA  OTROVEHIC  CAUSAACCI      CAPAROD  SEXO  ALIENTO  CINTURON  \\\n",
       "289260          0          0  Conductor  Pavimentada     2        2         3   \n",
       "289261          0          0  Conductor  Pavimentada     1        2         3   \n",
       "289262          0          0  Conductor  Pavimentada     2        2         3   \n",
       "289263          0          0  Conductor  Pavimentada     2        2         3   \n",
       "289264          0          0  Conductor  Pavimentada     2        2         3   \n",
       "\n",
       "        ID_EDAD  CONDMUERTO  CONDHERIDO  PASAMUERTO  PASAHERIDO  PEATMUERTO  \\\n",
       "289260       50           0           0           0           0           0   \n",
       "289261       31           0           1           0           0           0   \n",
       "289262       35           0           0           0           0           0   \n",
       "289263       48           0           0           0           0           0   \n",
       "289264       27           0           0           0           0           0   \n",
       "\n",
       "        PEATHERIDO  CICLMUERTO  CICLHERIDO  OTROMUERTO  OTROHERIDO  NEMUERTO  \\\n",
       "289260           0           0           0           0           0         0   \n",
       "289261           0           0           0           0           0         0   \n",
       "289262           0           0           0           0           0         0   \n",
       "289263           0           0           0           0           0         0   \n",
       "289264           0           0           0           0           0         0   \n",
       "\n",
       "        NEHERIDO     CLASACC             ESTATUS  muertos  heridos  \n",
       "289260         0  Sólo daños  Cifras Definitivas        0        0  \n",
       "289261         0     2 fatal  Cifras Definitivas        0        1  \n",
       "289262         0  Sólo daños  Cifras Definitivas        0        0  \n",
       "289263         0  Sólo daños  Cifras Definitivas        0        0  \n",
       "289264         0  Sólo daños  Cifras Definitivas        0        0  "
      ]
     },
     "execution_count": 90,
     "metadata": {},
     "output_type": "execute_result"
    }
   ],
   "source": [
    "#\n",
    "\n",
    "colisiones_KM.tail()"
   ]
  },
  {
   "cell_type": "code",
   "execution_count": 91,
   "metadata": {},
   "outputs": [
    {
     "data": {
      "text/html": [
       "<div>\n",
       "<style scoped>\n",
       "    .dataframe tbody tr th:only-of-type {\n",
       "        vertical-align: middle;\n",
       "    }\n",
       "\n",
       "    .dataframe tbody tr th {\n",
       "        vertical-align: top;\n",
       "    }\n",
       "\n",
       "    .dataframe thead th {\n",
       "        text-align: right;\n",
       "    }\n",
       "</style>\n",
       "<table border=\"1\" class=\"dataframe\">\n",
       "  <thead>\n",
       "    <tr style=\"text-align: right;\">\n",
       "      <th></th>\n",
       "      <th>COBERTURA</th>\n",
       "      <th>ID_ENTIDAD</th>\n",
       "      <th>ID_MUNICIPIO</th>\n",
       "      <th>ANIO</th>\n",
       "      <th>MES</th>\n",
       "      <th>ID_HORA</th>\n",
       "      <th>ID_MINUTO</th>\n",
       "      <th>ID_DIA</th>\n",
       "      <th>DIASEMANA</th>\n",
       "      <th>URBANA</th>\n",
       "      <th>SUBURBANA</th>\n",
       "      <th>TIPACCID</th>\n",
       "      <th>tipaccid_cod</th>\n",
       "      <th>AUTOMOVIL</th>\n",
       "      <th>CAMPASAJ</th>\n",
       "      <th>MICROBUS</th>\n",
       "      <th>PASCAMION</th>\n",
       "      <th>OMNIBUS</th>\n",
       "      <th>TRANVIA</th>\n",
       "      <th>CAMIONETA</th>\n",
       "      <th>CAMION</th>\n",
       "      <th>TRACTOR</th>\n",
       "      <th>FERROCARRI</th>\n",
       "      <th>MOTOCICLET</th>\n",
       "      <th>BICICLETA</th>\n",
       "      <th>OTROVEHIC</th>\n",
       "      <th>CAUSAACCI</th>\n",
       "      <th>CAPAROD</th>\n",
       "      <th>SEXO</th>\n",
       "      <th>ALIENTO</th>\n",
       "      <th>CINTURON</th>\n",
       "      <th>ID_EDAD</th>\n",
       "      <th>CONDMUERTO</th>\n",
       "      <th>CONDHERIDO</th>\n",
       "      <th>PASAMUERTO</th>\n",
       "      <th>PASAHERIDO</th>\n",
       "      <th>PEATMUERTO</th>\n",
       "      <th>PEATHERIDO</th>\n",
       "      <th>CICLMUERTO</th>\n",
       "      <th>CICLHERIDO</th>\n",
       "      <th>OTROMUERTO</th>\n",
       "      <th>OTROHERIDO</th>\n",
       "      <th>NEMUERTO</th>\n",
       "      <th>NEHERIDO</th>\n",
       "      <th>CLASACC</th>\n",
       "      <th>ESTATUS</th>\n",
       "      <th>muertos</th>\n",
       "      <th>heridos</th>\n",
       "    </tr>\n",
       "  </thead>\n",
       "  <tbody>\n",
       "    <tr>\n",
       "      <th>0</th>\n",
       "      <td>Municipal</td>\n",
       "      <td>1</td>\n",
       "      <td>1</td>\n",
       "      <td>2022</td>\n",
       "      <td>1</td>\n",
       "      <td>2</td>\n",
       "      <td>48</td>\n",
       "      <td>1</td>\n",
       "      <td>Sabado</td>\n",
       "      <td>Accidente en intersección</td>\n",
       "      <td>Sin accidente en esta zona</td>\n",
       "      <td>Colisión con vehículo automotor</td>\n",
       "      <td>8</td>\n",
       "      <td>1</td>\n",
       "      <td>1</td>\n",
       "      <td>0</td>\n",
       "      <td>0</td>\n",
       "      <td>0</td>\n",
       "      <td>0</td>\n",
       "      <td>0</td>\n",
       "      <td>0</td>\n",
       "      <td>0</td>\n",
       "      <td>0</td>\n",
       "      <td>0</td>\n",
       "      <td>0</td>\n",
       "      <td>0</td>\n",
       "      <td>Conductor</td>\n",
       "      <td>Pavimentada</td>\n",
       "      <td>2</td>\n",
       "      <td>1</td>\n",
       "      <td>3</td>\n",
       "      <td>20</td>\n",
       "      <td>0</td>\n",
       "      <td>0</td>\n",
       "      <td>0</td>\n",
       "      <td>0</td>\n",
       "      <td>0</td>\n",
       "      <td>0</td>\n",
       "      <td>0</td>\n",
       "      <td>0</td>\n",
       "      <td>0</td>\n",
       "      <td>0</td>\n",
       "      <td>0</td>\n",
       "      <td>0</td>\n",
       "      <td>Sólo daños</td>\n",
       "      <td>Cifras Definitivas</td>\n",
       "      <td>0</td>\n",
       "      <td>0</td>\n",
       "    </tr>\n",
       "    <tr>\n",
       "      <th>1</th>\n",
       "      <td>Municipal</td>\n",
       "      <td>1</td>\n",
       "      <td>1</td>\n",
       "      <td>2022</td>\n",
       "      <td>1</td>\n",
       "      <td>3</td>\n",
       "      <td>45</td>\n",
       "      <td>1</td>\n",
       "      <td>Sabado</td>\n",
       "      <td>Accidente en intersección</td>\n",
       "      <td>Sin accidente en esta zona</td>\n",
       "      <td>Colisión con vehículo automotor</td>\n",
       "      <td>8</td>\n",
       "      <td>2</td>\n",
       "      <td>0</td>\n",
       "      <td>0</td>\n",
       "      <td>0</td>\n",
       "      <td>0</td>\n",
       "      <td>0</td>\n",
       "      <td>0</td>\n",
       "      <td>0</td>\n",
       "      <td>0</td>\n",
       "      <td>0</td>\n",
       "      <td>0</td>\n",
       "      <td>0</td>\n",
       "      <td>0</td>\n",
       "      <td>Conductor</td>\n",
       "      <td>Pavimentada</td>\n",
       "      <td>2</td>\n",
       "      <td>1</td>\n",
       "      <td>3</td>\n",
       "      <td>53</td>\n",
       "      <td>0</td>\n",
       "      <td>0</td>\n",
       "      <td>0</td>\n",
       "      <td>0</td>\n",
       "      <td>0</td>\n",
       "      <td>0</td>\n",
       "      <td>0</td>\n",
       "      <td>0</td>\n",
       "      <td>0</td>\n",
       "      <td>0</td>\n",
       "      <td>0</td>\n",
       "      <td>0</td>\n",
       "      <td>Sólo daños</td>\n",
       "      <td>Cifras Definitivas</td>\n",
       "      <td>0</td>\n",
       "      <td>0</td>\n",
       "    </tr>\n",
       "    <tr>\n",
       "      <th>2</th>\n",
       "      <td>Municipal</td>\n",
       "      <td>1</td>\n",
       "      <td>1</td>\n",
       "      <td>2022</td>\n",
       "      <td>1</td>\n",
       "      <td>4</td>\n",
       "      <td>0</td>\n",
       "      <td>1</td>\n",
       "      <td>Sabado</td>\n",
       "      <td>Accidente en intersección</td>\n",
       "      <td>Sin accidente en esta zona</td>\n",
       "      <td>Colisión con objeto fijo</td>\n",
       "      <td>6</td>\n",
       "      <td>1</td>\n",
       "      <td>0</td>\n",
       "      <td>0</td>\n",
       "      <td>0</td>\n",
       "      <td>0</td>\n",
       "      <td>0</td>\n",
       "      <td>0</td>\n",
       "      <td>0</td>\n",
       "      <td>0</td>\n",
       "      <td>0</td>\n",
       "      <td>0</td>\n",
       "      <td>0</td>\n",
       "      <td>0</td>\n",
       "      <td>Conductor</td>\n",
       "      <td>Pavimentada</td>\n",
       "      <td>2</td>\n",
       "      <td>2</td>\n",
       "      <td>3</td>\n",
       "      <td>23</td>\n",
       "      <td>0</td>\n",
       "      <td>0</td>\n",
       "      <td>0</td>\n",
       "      <td>0</td>\n",
       "      <td>0</td>\n",
       "      <td>0</td>\n",
       "      <td>0</td>\n",
       "      <td>0</td>\n",
       "      <td>0</td>\n",
       "      <td>0</td>\n",
       "      <td>0</td>\n",
       "      <td>0</td>\n",
       "      <td>Sólo daños</td>\n",
       "      <td>Cifras Definitivas</td>\n",
       "      <td>0</td>\n",
       "      <td>0</td>\n",
       "    </tr>\n",
       "    <tr>\n",
       "      <th>3</th>\n",
       "      <td>Municipal</td>\n",
       "      <td>1</td>\n",
       "      <td>1</td>\n",
       "      <td>2022</td>\n",
       "      <td>1</td>\n",
       "      <td>4</td>\n",
       "      <td>15</td>\n",
       "      <td>1</td>\n",
       "      <td>Sabado</td>\n",
       "      <td>Accidente en intersección</td>\n",
       "      <td>Sin accidente en esta zona</td>\n",
       "      <td>Colisión con objeto fijo</td>\n",
       "      <td>6</td>\n",
       "      <td>1</td>\n",
       "      <td>0</td>\n",
       "      <td>0</td>\n",
       "      <td>0</td>\n",
       "      <td>0</td>\n",
       "      <td>0</td>\n",
       "      <td>0</td>\n",
       "      <td>0</td>\n",
       "      <td>0</td>\n",
       "      <td>0</td>\n",
       "      <td>0</td>\n",
       "      <td>0</td>\n",
       "      <td>0</td>\n",
       "      <td>Conductor</td>\n",
       "      <td>Pavimentada</td>\n",
       "      <td>2</td>\n",
       "      <td>2</td>\n",
       "      <td>3</td>\n",
       "      <td>16</td>\n",
       "      <td>0</td>\n",
       "      <td>1</td>\n",
       "      <td>0</td>\n",
       "      <td>2</td>\n",
       "      <td>0</td>\n",
       "      <td>0</td>\n",
       "      <td>0</td>\n",
       "      <td>0</td>\n",
       "      <td>0</td>\n",
       "      <td>0</td>\n",
       "      <td>0</td>\n",
       "      <td>0</td>\n",
       "      <td>2 fatal</td>\n",
       "      <td>Cifras Definitivas</td>\n",
       "      <td>0</td>\n",
       "      <td>3</td>\n",
       "    </tr>\n",
       "    <tr>\n",
       "      <th>4</th>\n",
       "      <td>Municipal</td>\n",
       "      <td>1</td>\n",
       "      <td>1</td>\n",
       "      <td>2022</td>\n",
       "      <td>1</td>\n",
       "      <td>5</td>\n",
       "      <td>56</td>\n",
       "      <td>1</td>\n",
       "      <td>Sabado</td>\n",
       "      <td>Accidente en intersección</td>\n",
       "      <td>Sin accidente en esta zona</td>\n",
       "      <td>Colisión con vehículo automotor</td>\n",
       "      <td>8</td>\n",
       "      <td>0</td>\n",
       "      <td>2</td>\n",
       "      <td>0</td>\n",
       "      <td>0</td>\n",
       "      <td>0</td>\n",
       "      <td>0</td>\n",
       "      <td>0</td>\n",
       "      <td>0</td>\n",
       "      <td>0</td>\n",
       "      <td>0</td>\n",
       "      <td>0</td>\n",
       "      <td>0</td>\n",
       "      <td>0</td>\n",
       "      <td>Conductor</td>\n",
       "      <td>Pavimentada</td>\n",
       "      <td>2</td>\n",
       "      <td>2</td>\n",
       "      <td>3</td>\n",
       "      <td>41</td>\n",
       "      <td>0</td>\n",
       "      <td>0</td>\n",
       "      <td>0</td>\n",
       "      <td>0</td>\n",
       "      <td>0</td>\n",
       "      <td>0</td>\n",
       "      <td>0</td>\n",
       "      <td>0</td>\n",
       "      <td>0</td>\n",
       "      <td>0</td>\n",
       "      <td>0</td>\n",
       "      <td>0</td>\n",
       "      <td>Sólo daños</td>\n",
       "      <td>Cifras Definitivas</td>\n",
       "      <td>0</td>\n",
       "      <td>0</td>\n",
       "    </tr>\n",
       "  </tbody>\n",
       "</table>\n",
       "</div>"
      ],
      "text/plain": [
       "   COBERTURA  ID_ENTIDAD  ID_MUNICIPIO  ANIO  MES  ID_HORA  ID_MINUTO  ID_DIA  \\\n",
       "0  Municipal           1             1  2022    1        2         48       1   \n",
       "1  Municipal           1             1  2022    1        3         45       1   \n",
       "2  Municipal           1             1  2022    1        4          0       1   \n",
       "3  Municipal           1             1  2022    1        4         15       1   \n",
       "4  Municipal           1             1  2022    1        5         56       1   \n",
       "\n",
       "  DIASEMANA                     URBANA                   SUBURBANA  \\\n",
       "0    Sabado  Accidente en intersección  Sin accidente en esta zona   \n",
       "1    Sabado  Accidente en intersección  Sin accidente en esta zona   \n",
       "2    Sabado  Accidente en intersección  Sin accidente en esta zona   \n",
       "3    Sabado  Accidente en intersección  Sin accidente en esta zona   \n",
       "4    Sabado  Accidente en intersección  Sin accidente en esta zona   \n",
       "\n",
       "                          TIPACCID  tipaccid_cod  AUTOMOVIL  CAMPASAJ  \\\n",
       "0  Colisión con vehículo automotor             8          1         1   \n",
       "1  Colisión con vehículo automotor             8          2         0   \n",
       "2         Colisión con objeto fijo             6          1         0   \n",
       "3         Colisión con objeto fijo             6          1         0   \n",
       "4  Colisión con vehículo automotor             8          0         2   \n",
       "\n",
       "   MICROBUS  PASCAMION  OMNIBUS  TRANVIA  CAMIONETA  CAMION  TRACTOR  \\\n",
       "0         0          0        0        0          0       0        0   \n",
       "1         0          0        0        0          0       0        0   \n",
       "2         0          0        0        0          0       0        0   \n",
       "3         0          0        0        0          0       0        0   \n",
       "4         0          0        0        0          0       0        0   \n",
       "\n",
       "   FERROCARRI  MOTOCICLET  BICICLETA  OTROVEHIC  CAUSAACCI      CAPAROD  SEXO  \\\n",
       "0           0           0          0          0  Conductor  Pavimentada     2   \n",
       "1           0           0          0          0  Conductor  Pavimentada     2   \n",
       "2           0           0          0          0  Conductor  Pavimentada     2   \n",
       "3           0           0          0          0  Conductor  Pavimentada     2   \n",
       "4           0           0          0          0  Conductor  Pavimentada     2   \n",
       "\n",
       "   ALIENTO  CINTURON  ID_EDAD  CONDMUERTO  CONDHERIDO  PASAMUERTO  PASAHERIDO  \\\n",
       "0        1         3       20           0           0           0           0   \n",
       "1        1         3       53           0           0           0           0   \n",
       "2        2         3       23           0           0           0           0   \n",
       "3        2         3       16           0           1           0           2   \n",
       "4        2         3       41           0           0           0           0   \n",
       "\n",
       "   PEATMUERTO  PEATHERIDO  CICLMUERTO  CICLHERIDO  OTROMUERTO  OTROHERIDO  \\\n",
       "0           0           0           0           0           0           0   \n",
       "1           0           0           0           0           0           0   \n",
       "2           0           0           0           0           0           0   \n",
       "3           0           0           0           0           0           0   \n",
       "4           0           0           0           0           0           0   \n",
       "\n",
       "   NEMUERTO  NEHERIDO     CLASACC             ESTATUS  muertos  heridos  \n",
       "0         0         0  Sólo daños  Cifras Definitivas        0        0  \n",
       "1         0         0  Sólo daños  Cifras Definitivas        0        0  \n",
       "2         0         0  Sólo daños  Cifras Definitivas        0        0  \n",
       "3         0         0     2 fatal  Cifras Definitivas        0        3  \n",
       "4         0         0  Sólo daños  Cifras Definitivas        0        0  "
      ]
     },
     "execution_count": 91,
     "metadata": {},
     "output_type": "execute_result"
    }
   ],
   "source": [
    "# Las variables relevantes de la tabla:\n",
    "#  'ID_ENTIDAD', 'ID_MUNICIPIO', 'SEXO', 'EDAD', 'TIPACCID, \n",
    "# 'ID_HORA', 'DIASEMANA', 'MES'\n",
    "# 'ALIENTO', 'muertos', 'heridos'\n",
    "\n",
    "colisiones_KM.head()"
   ]
  },
  {
   "cell_type": "code",
   "execution_count": 92,
   "metadata": {},
   "outputs": [
    {
     "data": {
      "text/plain": [
       "19   0.20\n",
       "26   0.08\n",
       "8    0.07\n",
       "15   0.05\n",
       "16   0.04\n",
       "11   0.04\n",
       "14   0.04\n",
       "5    0.04\n",
       "28   0.04\n",
       "30   0.03\n",
       "21   0.03\n",
       "10   0.03\n",
       "22   0.03\n",
       "2    0.03\n",
       "31   0.03\n",
       "24   0.03\n",
       "17   0.03\n",
       "23   0.02\n",
       "9    0.02\n",
       "25   0.02\n",
       "3    0.02\n",
       "6    0.01\n",
       "1    0.01\n",
       "20   0.01\n",
       "4    0.01\n",
       "12   0.01\n",
       "13   0.01\n",
       "32   0.01\n",
       "18   0.01\n",
       "29   0.00\n",
       "7    0.00\n",
       "27   0.00\n",
       "Name: ID_ENTIDAD, dtype: float64"
      ]
     },
     "execution_count": 92,
     "metadata": {},
     "output_type": "execute_result"
    }
   ],
   "source": [
    "# \n",
    "\n",
    "colisiones_KM.ID_ENTIDAD.value_counts(normalize=True)"
   ]
  },
  {
   "cell_type": "code",
   "execution_count": 93,
   "metadata": {},
   "outputs": [
    {
     "data": {
      "text/plain": [
       "39    0.08\n",
       "19    0.05\n",
       "5     0.05\n",
       "30    0.04\n",
       "46    0.04\n",
       "      ... \n",
       "169   0.00\n",
       "170   0.00\n",
       "173   0.00\n",
       "179   0.00\n",
       "209   0.00\n",
       "Name: ID_MUNICIPIO, Length: 240, dtype: float64"
      ]
     },
     "execution_count": 93,
     "metadata": {},
     "output_type": "execute_result"
    }
   ],
   "source": [
    "\n",
    "\n",
    "colisiones_KM.ID_MUNICIPIO.value_counts(normalize=True)"
   ]
  },
  {
   "cell_type": "code",
   "execution_count": 94,
   "metadata": {},
   "outputs": [
    {
     "data": {
      "text/plain": [
       "2   0.82\n",
       "1   0.18\n",
       "Name: SEXO, dtype: float64"
      ]
     },
     "execution_count": 94,
     "metadata": {},
     "output_type": "execute_result"
    }
   ],
   "source": [
    "# \n",
    "\n",
    "colisiones_KM.SEXO.value_counts(normalize = True)"
   ]
  },
  {
   "cell_type": "code",
   "execution_count": 95,
   "metadata": {},
   "outputs": [
    {
     "data": {
      "text/plain": [
       "30   0.03\n",
       "32   0.03\n",
       "28   0.03\n",
       "27   0.03\n",
       "25   0.03\n",
       "     ... \n",
       "93   0.00\n",
       "91   0.00\n",
       "94   0.00\n",
       "95   0.00\n",
       "98   0.00\n",
       "Name: ID_EDAD, Length: 85, dtype: float64"
      ]
     },
     "execution_count": 95,
     "metadata": {},
     "output_type": "execute_result"
    }
   ],
   "source": [
    "# \n",
    "\n",
    "colisiones_KM.ID_EDAD.value_counts(normalize = True)"
   ]
  },
  {
   "cell_type": "code",
   "execution_count": 96,
   "metadata": {},
   "outputs": [
    {
     "data": {
      "text/plain": [
       "8   0.71\n",
       "5   0.17\n",
       "6   0.12\n",
       "Name: tipaccid_cod, dtype: float64"
      ]
     },
     "execution_count": 96,
     "metadata": {},
     "output_type": "execute_result"
    }
   ],
   "source": [
    "#\n",
    "\n",
    "colisiones_KM.tipaccid_cod.value_counts(normalize = True)\n",
    "\n"
   ]
  },
  {
   "cell_type": "code",
   "execution_count": 97,
   "metadata": {},
   "outputs": [
    {
     "data": {
      "text/plain": [
       "1    0.04\n",
       "15   0.03\n",
       "14   0.03\n",
       "5    0.03\n",
       "9    0.03\n",
       "17   0.03\n",
       "22   0.03\n",
       "4    0.03\n",
       "10   0.03\n",
       "12   0.03\n",
       "16   0.03\n",
       "19   0.03\n",
       "18   0.03\n",
       "11   0.03\n",
       "3    0.03\n",
       "23   0.03\n",
       "26   0.03\n",
       "8    0.03\n",
       "20   0.03\n",
       "6    0.03\n",
       "7    0.03\n",
       "13   0.03\n",
       "2    0.03\n",
       "28   0.03\n",
       "25   0.03\n",
       "27   0.03\n",
       "24   0.03\n",
       "21   0.03\n",
       "30   0.03\n",
       "29   0.03\n",
       "31   0.02\n",
       "Name: ID_DIA, dtype: float64"
      ]
     },
     "execution_count": 97,
     "metadata": {},
     "output_type": "execute_result"
    }
   ],
   "source": [
    "\n",
    "# \n",
    "colisiones_KM.ID_DIA.value_counts(normalize = True)"
   ]
  },
  {
   "cell_type": "code",
   "execution_count": 98,
   "metadata": {},
   "outputs": [
    {
     "data": {
      "text/plain": [
       "Sabado      0.16\n",
       "Viernes     0.15\n",
       "lunes       0.14\n",
       "Jueves      0.14\n",
       "Martes      0.14\n",
       "Miercoles   0.14\n",
       "Domingo     0.13\n",
       "Name: DIASEMANA, dtype: float64"
      ]
     },
     "execution_count": 98,
     "metadata": {},
     "output_type": "execute_result"
    }
   ],
   "source": [
    "# \n",
    "\n",
    "colisiones_KM.DIASEMANA.value_counts(normalize = True)"
   ]
  },
  {
   "cell_type": "code",
   "execution_count": 99,
   "metadata": {},
   "outputs": [
    {
     "data": {
      "text/plain": [
       "5    0.09\n",
       "12   0.09\n",
       "10   0.09\n",
       "3    0.09\n",
       "7    0.09\n",
       "6    0.08\n",
       "8    0.08\n",
       "11   0.08\n",
       "4    0.08\n",
       "9    0.08\n",
       "2    0.08\n",
       "1    0.07\n",
       "Name: MES, dtype: float64"
      ]
     },
     "execution_count": 99,
     "metadata": {},
     "output_type": "execute_result"
    }
   ],
   "source": [
    "# \n",
    "\n",
    "colisiones_KM.MES.value_counts(normalize = True)"
   ]
  },
  {
   "cell_type": "code",
   "execution_count": 100,
   "metadata": {},
   "outputs": [
    {
     "data": {
      "text/plain": [
       "2   0.75\n",
       "3   0.19\n",
       "1   0.06\n",
       "Name: ALIENTO, dtype: float64"
      ]
     },
     "execution_count": 100,
     "metadata": {},
     "output_type": "execute_result"
    }
   ],
   "source": [
    "#  1= Si aliento\n",
    "# 2 = No Aliento\n",
    "# 3= se fugó\n",
    "\n",
    "colisiones_KM.ALIENTO.value_counts(normalize = True)"
   ]
  },
  {
   "cell_type": "code",
   "execution_count": 101,
   "metadata": {},
   "outputs": [
    {
     "data": {
      "text/plain": [
       "0    0.99\n",
       "1    0.01\n",
       "2    0.00\n",
       "3    0.00\n",
       "4    0.00\n",
       "6    0.00\n",
       "5    0.00\n",
       "10   0.00\n",
       "Name: muertos, dtype: float64"
      ]
     },
     "execution_count": 101,
     "metadata": {},
     "output_type": "execute_result"
    }
   ],
   "source": [
    "# \n",
    "\n",
    "colisiones_KM.muertos.value_counts(normalize = True)"
   ]
  },
  {
   "cell_type": "code",
   "execution_count": 102,
   "metadata": {},
   "outputs": [
    {
     "data": {
      "text/plain": [
       "0    0.86\n",
       "1    0.11\n",
       "2    0.03\n",
       "3    0.01\n",
       "4    0.00\n",
       "5    0.00\n",
       "6    0.00\n",
       "7    0.00\n",
       "8    0.00\n",
       "10   0.00\n",
       "9    0.00\n",
       "13   0.00\n",
       "11   0.00\n",
       "15   0.00\n",
       "12   0.00\n",
       "16   0.00\n",
       "14   0.00\n",
       "22   0.00\n",
       "19   0.00\n",
       "26   0.00\n",
       "21   0.00\n",
       "18   0.00\n",
       "25   0.00\n",
       "31   0.00\n",
       "43   0.00\n",
       "20   0.00\n",
       "23   0.00\n",
       "27   0.00\n",
       "Name: heridos, dtype: float64"
      ]
     },
     "execution_count": 102,
     "metadata": {},
     "output_type": "execute_result"
    }
   ],
   "source": [
    "# \n",
    "\n",
    "colisiones_KM.heridos.value_counts(normalize = True)"
   ]
  },
  {
   "cell_type": "code",
   "execution_count": 103,
   "metadata": {},
   "outputs": [
    {
     "data": {
      "image/png": "[encoded data removed]",
      "text/plain": [
       "<Figure size 558.875x500 with 6 Axes>"
      ]
     },
     "metadata": {},
     "output_type": "display_data"
    }
   ],
   "source": [
    "# Let's see our data in a detailed way with pairplot\n",
    "\n",
    "sns.pairplot( colisiones_KM[ [ 'SEXO','ID_EDAD', 'ALIENTO'] ] , hue = 'SEXO' )\n",
    "\n",
    "plt.show()"
   ]
  },
  {
   "cell_type": "code",
   "execution_count": 104,
   "metadata": {},
   "outputs": [
    {
     "data": {
      "image/png": "[encoded data removed]",
      "text/plain": [
       "<Figure size 567.75x500 with 6 Axes>"
      ]
     },
     "metadata": {},
     "output_type": "display_data"
    }
   ],
   "source": [
    "# Let's see our data in a detailed way with pairplot\n",
    "\n",
    "\n",
    "sns.pairplot( colisiones_KM[ [ 'MES','ID_EDAD', 'tipaccid_cod'] ] , hue = 'MES' )\n",
    "\n",
    "plt.show()"
   ]
  },
  {
   "cell_type": "code",
   "execution_count": 105,
   "metadata": {},
   "outputs": [
    {
     "data": {
      "image/png": "[encoded data removed]",
      "text/plain": [
       "<Figure size 817.75x750 with 12 Axes>"
      ]
     },
     "metadata": {},
     "output_type": "display_data"
    }
   ],
   "source": [
    "sns.pairplot( colisiones_KM[ [ 'MES','ID_DIA', 'tipaccid_cod', 'SEXO'] ] , hue = 'ID_DIA' )\n",
    "\n",
    "plt.show()"
   ]
  },
  {
   "cell_type": "code",
   "execution_count": null,
   "metadata": {},
   "outputs": [],
   "source": [
    "De los gráficos anteriores vemos que el género y otras variables no parecen tener relación directa con la segmentación de defunciones. Es por eso que podemos dejarlo y continuar con otras características, razón por la cual usaremos el parámetro X de ahora en adelante."
   ]
  },
  {
   "cell_type": "code",
   "execution_count": null,
   "metadata": {},
   "outputs": [],
   "source": [
    "# Definimos X:\n",
    "\n",
    "#X = colisiones_KM [ [ '' ] ]"
   ]
  },
  {
   "cell_type": "code",
   "execution_count": null,
   "metadata": {},
   "outputs": [],
   "source": [
    "# \n",
    "\n",
    "km = KMeans( n_clusters = 3 ).fit( X.drop(['ID_REGISTRO'], axis = 1) )\n",
    "\n",
    "km.inertia_ #km.labels_\n",
    "\n",
    "#km = KMeans(n_clusters=3).fit(X.drop(['ID_REGISTRO'], axis=1))\n",
    "#print(km.inertia_) \n",
    "#print(km.labels_)\n"
   ]
  },
  {
   "cell_type": "code",
   "execution_count": null,
   "metadata": {},
   "outputs": [],
   "source": [
    "#\n",
    "\n",
    "clusters = []\n",
    "\n",
    "#\n",
    "for i in range(1, 11):\n",
    "    km = KMeans( n_clusters = i ).fit( X.drop(['ID_REGISTRO'], axis = 1) )\n",
    "    clusters.append( km.inertia_ )\n",
    "\n",
    "#\n",
    "fig, ax = plt.subplots( figsize = (12, 8) )\n",
    "sns.lineplot(x = list(range(1, 11)), y = clusters, ax = ax)\n",
    "ax.set_title('Searching for Elbow')\n",
    "ax.set_xlabel('Clusters')\n",
    "ax.set_ylabel('Inertia')\n",
    "\n",
    "# Annotate arrow\n",
    "ax.annotate('Possible Elbow Point', xy = (2, 91797400), xytext = (2, 110000000), xycoords = 'data',          \n",
    "             arrowprops = dict( arrowstyle = '->', connectionstyle = 'arc3', color = 'blue', lw = 2))\n",
    "\n",
    "ax.annotate('Possible Elbow Point', xy = (3, 72737691), xytext = (3, 90000000), xycoords = 'data',          \n",
    "             arrowprops = dict( arrowstyle = '->', connectionstyle = 'arc3', color = 'blue', lw = 2))\n",
    "\n",
    "plt.show()"
   ]
  },
  {
   "cell_type": "markdown",
   "metadata": {},
   "source": [
    "El método del codo nos dice que seleccionemos el grupo cuando hay un cambio significativo en la inercia. Como podemos ver en el gráfico, podemos decir que puede ser 2 o 3. Veamos ambos resultados en el gráfico y decidamos."
   ]
  },
  {
   "cell_type": "code",
   "execution_count": null,
   "metadata": {},
   "outputs": [],
   "source": [
    "# 2 cluster\n",
    "km2 = KMeans(n_clusters = 2).fit( X.drop(['ID_REGISTRO'], axis = 1) )\n",
    "\n",
    "X['Labels'] = km2.labels_ \n",
    "\n",
    "plt.figure( figsize = (12, 8) )\n",
    "\n",
    "sns.scatterplot( data = X, x = 'EDAD', y = 'Dias_Def', hue = 'Labels' )\n",
    "\n",
    "plt.title('KMeans with 2 Clusters')\n",
    "\n",
    "plt.show()"
   ]
  },
  {
   "cell_type": "code",
   "execution_count": null,
   "metadata": {},
   "outputs": [],
   "source": [
    "# 3 cluster\n",
    "km3 = KMeans(n_clusters = 3).fit( X.drop(['ID_REGISTRO'], axis = 1) )\n",
    "\n",
    "X['Labels'] = km3.labels_ \n",
    "\n",
    "plt.figure( figsize = (12, 8) )\n",
    "\n",
    "sns.scatterplot( data = X, x = 'EDAD', y = 'Dias_Def', hue = 'Labels' )\n",
    "\n",
    "plt.title('KMeans with 3 Clusters')\n",
    "\n",
    "plt.show()"
   ]
  },
  {
   "cell_type": "code",
   "execution_count": null,
   "metadata": {},
   "outputs": [],
   "source": [
    "# 6 cluster\n",
    "km6 = KMeans(n_clusters = 6).fit( X.drop(['ID_REGISTRO'], axis = 1) )\n",
    "\n",
    "X['Labels'] = km6.labels_ \n",
    "\n",
    "plt.figure( figsize = (12, 8) )\n",
    "\n",
    "sns.scatterplot( data = X, x = 'EDAD', y = 'Dias_Def', hue = 'Labels' )\n",
    "\n",
    "plt.title('KMeans with 6 Clusters')\n",
    "\n",
    "plt.show()"
   ]
  },
  {
   "cell_type": "code",
   "execution_count": null,
   "metadata": {},
   "outputs": [],
   "source": [
    "#\n",
    "\n",
    "X[ X['Labels'] == 0].describe()"
   ]
  },
  {
   "cell_type": "code",
   "execution_count": null,
   "metadata": {},
   "outputs": [],
   "source": [
    "#\n",
    "\n",
    "X[ X['Labels'] == 1].describe()"
   ]
  },
  {
   "cell_type": "code",
   "execution_count": null,
   "metadata": {},
   "outputs": [],
   "source": [
    "#\n",
    "\n",
    "X[ X['Labels'] == 2].describe()"
   ]
  },
  {
   "cell_type": "code",
   "execution_count": null,
   "metadata": {},
   "outputs": [],
   "source": [
    "#\n",
    "\n",
    "X[ X['Labels'] == 3].describe()"
   ]
  },
  {
   "cell_type": "code",
   "execution_count": null,
   "metadata": {},
   "outputs": [],
   "source": [
    "#\n",
    "\n",
    "X[ X['Labels'] == 4].describe()"
   ]
  },
  {
   "cell_type": "code",
   "execution_count": null,
   "metadata": {},
   "outputs": [],
   "source": [
    "#\n",
    "\n",
    "X[ X['Labels'] == 5].describe()"
   ]
  }
 ],
 "metadata": {
  "kernelspec": {
   "display_name": "Python 3 (ipykernel)",
   "language": "python",
   "name": "python3"
  },
  "language_info": {
   "codemirror_mode": {
    "name": "ipython",
    "version": 3
   },
   "file_extension": ".py",
   "mimetype": "text/x-python",
   "name": "python",
   "nbconvert_exporter": "python",
   "pygments_lexer": "ipython3",
   "version": "3.11.5"
  }
 },
 "nbformat": 4,
 "nbformat_minor": 2
}
